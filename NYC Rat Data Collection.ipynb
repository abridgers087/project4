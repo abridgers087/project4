{
 "cells": [
  {
   "cell_type": "code",
   "execution_count": 1,
   "id": "9671560a",
   "metadata": {},
   "outputs": [],
   "source": [
    "import requests\n",
    "import json\n",
    "import os\n",
    "from pprint import pprint\n",
    "from pymongo import MongoClient\n",
    "from datetime import datetime\n",
    "import pandas as pd\n",
    "import matplotlib.pyplot as plt\n",
    "import matplotlib\n",
    "from sklearn.model_selection import train_test_split\n",
    "from sklearn.preprocessing import StandardScaler\n",
    "from sklearn.preprocessing import MinMaxScaler\n",
    "import tensorflow as tf"
   ]
  },
  {
   "cell_type": "markdown",
   "id": "67583bbb",
   "metadata": {},
   "source": [
    "NYC Rat Data Source: https://data.cityofnewyork.us/Health/Rodent-Inspection/p937-wjvj\n",
    "\n",
    "Notes for the NYC Rat Data API:\n",
    "\n",
    "Base URL:\n",
    "The base URL for the API is \"https://data.cityofnewyork.us/resource/p937-wjvj.json\".\n",
    "\n",
    "Parameters:\n",
    "\n",
    "--\"inspection_type\" (text): Specify the type of inspection (e.g., \"Initial\", \"Compliance\", etc.).\n",
    "Lets look at initial and compliance for this category, per the data: \"Initial Inspection - Inspection conducted in response to a 311 complaint, or a proactive inspection conducted through our neighborhood indexing program\" and\n",
    "\"Compliance Inspection - If a property fails its initial inspection, the Health Department will conduct a follow up\n",
    "(Compliance) inspection\"\n",
    "\n",
    "\n",
    "--\"job_ticket_or_work_order_id\" (number): Use this parameter if you want to filter by a specific job ticket or work order ID.\n",
    "keep for now for reference purposes. i do not think we need this to train the nn, but more is better to start\n",
    "\n",
    "\n",
    "--\"borough\" (text): Specify the borough you want to filter by (e.g., \"Manhattan\", \"Brooklyn\", etc.).\n",
    "keep this too. this is our location data\n",
    "\n",
    "\n",
    "--\"result\" (text): Specify the result of the inspection (e.g., \"Active Rat Signs\", \"Problem Conditions\", etc.).\n",
    "Active Rat Signs (ARS) - ARS include any of six different signs: 1) fresh tracks, 2) fresh droppings, 3) active burrows,\n",
    "4) active runways and rub marks, 5) fresh gnawing marks, and 6) live rats. \n",
    "Problem Conditions - Problem conditions include garbage (poor containerization of food waste resulting in the feeding\n",
    "of rats), harborage (clutter and dense vegetation promoting the nesting of rats), and mice.\n",
    "\n",
    "this field needs to be analyzed, not sure what data is going to come back and how we will parse. TBD.\n",
    "\n",
    "--\"inspection_date\" (Floating Timestamp): date of inspection"
   ]
  },
  {
   "cell_type": "markdown",
   "id": "b67c7b37",
   "metadata": {},
   "source": [
    "This site: https://dev.socrata.com/foundry/data.cityofnewyork.us/p937-wjvj hosts a CSV file of the above data if we dont want to screw with the api\n",
    "\n",
    "Notes on data limitations: Please note that if a property/taxlot does not appear in the file, that does not indicate an absence of rats - rather just that it has not been inspected. Similarly, neighborhoods with higher numbers properties with active rat signs may not actually have higher rat populations but simply have more inspections."
   ]
  },
  {
   "cell_type": "markdown",
   "id": "675d6b93",
   "metadata": {},
   "source": [
    "Find out which Boro has the most rats (measure initial and compliance). Drill down to that Boro. Analyze data for Problem Conditions which turn into Active Rat Signs and for how long. See if you can train an API on potential active rat situations."
   ]
  },
  {
   "cell_type": "code",
   "execution_count": 2,
   "id": "77def1c6",
   "metadata": {},
   "outputs": [],
   "source": [
    "client = MongoClient('localhost', 27017)\n",
    "\n",
    "# Select your database\n",
    "db = client['nyc']\n",
    "\n",
    "# Select your collection\n",
    "collection = db['rats']"
   ]
  },
  {
   "cell_type": "markdown",
   "id": "cfc60ba6",
   "metadata": {},
   "source": [
    "(source:https://rattrapinc.com/new-york-city-rat-facts/) Rat lifespan: rats live about 1 year and begin reproducing at 2-3 months old. New York City rats like to burrow, nest, and hide in soft dirt at ground level or below, and live in colonies, or families of 30 to 50 rats with 9 to a burrow. These rats will live between 100 and 400 feet from their food source, and in their lifetime will rarely travel more than 600 feet from where they are born.\n",
    "\n",
    "With this information, we should focus on a time span of not more than 5 years, but not less than 1-2 years. I also think we should focus on one Borough. Research shows Brooklyn to be the most rat-infested Borough (https://www.stat.cmu.edu/capstoneresearch/fall2022/315files_f22/team6.html) (plus our dataset shows the same). \n",
    "\n",
    "Using the data at hand, I beleive we should look at inspection results, by street name, over a period of 2-5 years to see if there is a trend in rat growth, if treatment is working, etc.\n",
    "\n",
    "Other potential variables: weather, longer/shorter time spans, etc.\n",
    "\n",
    "Cleaning steps:\n",
    "1. Remove empty data\n",
    "2. Drill down by Borough (maybe use df's grouped by borough for visualization)\n",
    "3. Remove data out of date threshold (easier to clean if sorted by borough)\n",
    "4. Manipulate\n",
    "5. ???\n",
    "6. Profit\n",
    "\n",
    "Addtional info: There is a rat sightings nyc db as well (https://data.cityofnewyork.us/Social-Services/Rat-Sightings/3q43-55fe). This could be used for cross referencing, etc. I decided to stick with the initial dataset, because rat sightings could be subjective (and they are investigated by various agencies per that dataset's information) \n",
    "\n",
    "Mongo DB Cleaning:\n",
    "Import CSV > remove JOB_TICKET_OR_WORK_ORDER_ID, JOB_ID, JOB_PROGRESS, BBL, BORO_CODE, BLOCK, LOT, HOUSE_NUMBER, STREET_NAME, X_COORD, Y_COORD, LATITUDE, LONGITUDE, APPROVED_DATE, LOCATION, COMMUNITY BOARD, COUNCIL DISTRICT, CENSUS TRACT, BIN, NTA > Change INSPECTION_DATE to Date format"
   ]
  },
  {
   "cell_type": "code",
   "execution_count": 3,
   "id": "09f11734",
   "metadata": {},
   "outputs": [
    {
     "name": "stdout",
     "output_type": "stream",
     "text": [
      "Deleted 0 documents.\n"
     ]
    }
   ],
   "source": [
    "#Clean out empty data\n",
    "# Define the fields that should be present and non-empty in every document\n",
    "fields_to_check = [\n",
    "    \"INSPECTION_TYPE\",\n",
    "    \"ZIP_CODE\",\n",
    "    \"BOROUGH\",\n",
    "    \"INSPECTION_DATE\",\n",
    "    \"RESULT\"\n",
    "]\n",
    "\n",
    "# Construct the query to match documents where any of the specified fields is missing or has an empty/whitespace value\n",
    "query = {\"$or\": []}\n",
    "for field in fields_to_check:\n",
    "    query[\"$or\"].extend([\n",
    "        {field: {\"$exists\": False}},\n",
    "        {field: \"\"},\n",
    "        {field: {\"$regex\": \"^\\s*$\"}}\n",
    "    ])\n",
    "query[\"$or\"].append({\"ZIP_CODE\": 0})\n",
    "\n",
    "# Delete documents matching the query\n",
    "result = collection.delete_many(query)\n",
    "\n",
    "# Print the result of the delete operation\n",
    "print(f\"Deleted {result.deleted_count} documents.\")"
   ]
  },
  {
   "cell_type": "code",
   "execution_count": 4,
   "id": "99412215",
   "metadata": {},
   "outputs": [
    {
     "name": "stdout",
     "output_type": "stream",
     "text": [
      "0 documents were deleted.\n"
     ]
    }
   ],
   "source": [
    "#Remove all documents with an Inspection Date before 2023\n",
    "# Define the date threshold\n",
    "threshold_date = datetime(2023, 1, 1)\n",
    "\n",
    "# Remove documents with an INSPECTION_DATE before 2023\n",
    "result = collection.delete_many({\n",
    "    \"INSPECTION_DATE\": {\n",
    "        \"$lt\": threshold_date\n",
    "    }\n",
    "})\n",
    "\n",
    "print(f\"{result.deleted_count} documents were deleted.\")\n"
   ]
  },
  {
   "cell_type": "code",
   "execution_count": 5,
   "id": "c6c31f8e",
   "metadata": {},
   "outputs": [],
   "source": [
    "cursor = collection.find({})\n",
    "df = pd.DataFrame(list(cursor))"
   ]
  },
  {
   "cell_type": "code",
   "execution_count": 6,
   "id": "4bf42c1a",
   "metadata": {},
   "outputs": [],
   "source": [
    "df.drop(columns=['_id'], inplace=True) "
   ]
  },
  {
   "cell_type": "code",
   "execution_count": 7,
   "id": "bb5b9172",
   "metadata": {},
   "outputs": [
    {
     "data": {
      "text/html": [
       "<div>\n",
       "<style scoped>\n",
       "    .dataframe tbody tr th:only-of-type {\n",
       "        vertical-align: middle;\n",
       "    }\n",
       "\n",
       "    .dataframe tbody tr th {\n",
       "        vertical-align: top;\n",
       "    }\n",
       "\n",
       "    .dataframe thead th {\n",
       "        text-align: right;\n",
       "    }\n",
       "</style>\n",
       "<table border=\"1\" class=\"dataframe\">\n",
       "  <thead>\n",
       "    <tr style=\"text-align: right;\">\n",
       "      <th></th>\n",
       "      <th>INSPECTION_TYPE</th>\n",
       "      <th>ZIP_CODE</th>\n",
       "      <th>BOROUGH</th>\n",
       "      <th>INSPECTION_DATE</th>\n",
       "      <th>RESULT</th>\n",
       "      <th>RAT_ACTIVITY</th>\n",
       "    </tr>\n",
       "  </thead>\n",
       "  <tbody>\n",
       "    <tr>\n",
       "      <th>0</th>\n",
       "      <td>Initial</td>\n",
       "      <td>10469</td>\n",
       "      <td>Bronx</td>\n",
       "      <td>2023-03-10 20:10:27</td>\n",
       "      <td>Passed</td>\n",
       "      <td>0</td>\n",
       "    </tr>\n",
       "    <tr>\n",
       "      <th>1</th>\n",
       "      <td>Initial</td>\n",
       "      <td>10029</td>\n",
       "      <td>Manhattan</td>\n",
       "      <td>2023-03-24 12:30:00</td>\n",
       "      <td>Rat Activity</td>\n",
       "      <td>1</td>\n",
       "    </tr>\n",
       "    <tr>\n",
       "      <th>2</th>\n",
       "      <td>Initial</td>\n",
       "      <td>10027</td>\n",
       "      <td>Manhattan</td>\n",
       "      <td>2023-01-20 19:31:22</td>\n",
       "      <td>Passed</td>\n",
       "      <td>0</td>\n",
       "    </tr>\n",
       "    <tr>\n",
       "      <th>3</th>\n",
       "      <td>Initial</td>\n",
       "      <td>11221</td>\n",
       "      <td>Brooklyn</td>\n",
       "      <td>2023-05-12 18:22:44</td>\n",
       "      <td>Passed</td>\n",
       "      <td>0</td>\n",
       "    </tr>\n",
       "    <tr>\n",
       "      <th>4</th>\n",
       "      <td>Initial</td>\n",
       "      <td>10451</td>\n",
       "      <td>Bronx</td>\n",
       "      <td>2023-01-19 21:08:39</td>\n",
       "      <td>Passed</td>\n",
       "      <td>0</td>\n",
       "    </tr>\n",
       "    <tr>\n",
       "      <th>...</th>\n",
       "      <td>...</td>\n",
       "      <td>...</td>\n",
       "      <td>...</td>\n",
       "      <td>...</td>\n",
       "      <td>...</td>\n",
       "      <td>...</td>\n",
       "    </tr>\n",
       "    <tr>\n",
       "      <th>165367</th>\n",
       "      <td>Initial</td>\n",
       "      <td>10065</td>\n",
       "      <td>Manhattan</td>\n",
       "      <td>2023-02-03 16:55:09</td>\n",
       "      <td>Passed</td>\n",
       "      <td>0</td>\n",
       "    </tr>\n",
       "    <tr>\n",
       "      <th>165368</th>\n",
       "      <td>Initial</td>\n",
       "      <td>10458</td>\n",
       "      <td>Bronx</td>\n",
       "      <td>2023-02-03 20:30:05</td>\n",
       "      <td>Passed</td>\n",
       "      <td>0</td>\n",
       "    </tr>\n",
       "    <tr>\n",
       "      <th>165369</th>\n",
       "      <td>Compliance</td>\n",
       "      <td>11211</td>\n",
       "      <td>Brooklyn</td>\n",
       "      <td>2023-05-26 17:10:32</td>\n",
       "      <td>Rat Activity</td>\n",
       "      <td>1</td>\n",
       "    </tr>\n",
       "    <tr>\n",
       "      <th>165370</th>\n",
       "      <td>Initial</td>\n",
       "      <td>11206</td>\n",
       "      <td>Brooklyn</td>\n",
       "      <td>2023-02-03 21:00:12</td>\n",
       "      <td>Rat Activity</td>\n",
       "      <td>1</td>\n",
       "    </tr>\n",
       "    <tr>\n",
       "      <th>165371</th>\n",
       "      <td>Initial</td>\n",
       "      <td>11377</td>\n",
       "      <td>Queens</td>\n",
       "      <td>2023-03-02 18:51:42</td>\n",
       "      <td>Passed</td>\n",
       "      <td>0</td>\n",
       "    </tr>\n",
       "  </tbody>\n",
       "</table>\n",
       "<p>165372 rows × 6 columns</p>\n",
       "</div>"
      ],
      "text/plain": [
       "       INSPECTION_TYPE  ZIP_CODE    BOROUGH     INSPECTION_DATE        RESULT  \\\n",
       "0              Initial     10469      Bronx 2023-03-10 20:10:27        Passed   \n",
       "1              Initial     10029  Manhattan 2023-03-24 12:30:00  Rat Activity   \n",
       "2              Initial     10027  Manhattan 2023-01-20 19:31:22        Passed   \n",
       "3              Initial     11221   Brooklyn 2023-05-12 18:22:44        Passed   \n",
       "4              Initial     10451      Bronx 2023-01-19 21:08:39        Passed   \n",
       "...                ...       ...        ...                 ...           ...   \n",
       "165367         Initial     10065  Manhattan 2023-02-03 16:55:09        Passed   \n",
       "165368         Initial     10458      Bronx 2023-02-03 20:30:05        Passed   \n",
       "165369      Compliance     11211   Brooklyn 2023-05-26 17:10:32  Rat Activity   \n",
       "165370         Initial     11206   Brooklyn 2023-02-03 21:00:12  Rat Activity   \n",
       "165371         Initial     11377     Queens 2023-03-02 18:51:42        Passed   \n",
       "\n",
       "        RAT_ACTIVITY  \n",
       "0                  0  \n",
       "1                  1  \n",
       "2                  0  \n",
       "3                  0  \n",
       "4                  0  \n",
       "...              ...  \n",
       "165367             0  \n",
       "165368             0  \n",
       "165369             1  \n",
       "165370             1  \n",
       "165371             0  \n",
       "\n",
       "[165372 rows x 6 columns]"
      ]
     },
     "execution_count": 7,
     "metadata": {},
     "output_type": "execute_result"
    }
   ],
   "source": [
    "#RAT ACTIVITY IS THE TARGET OF OUR ML MODEL\n",
    "# Create a new column \"Rat Activity\" and initialize with 0\n",
    "df['RAT_ACTIVITY'] = 0\n",
    "\n",
    "# Set the \"Rat_Activity\" column to 1 where there is rat activity\n",
    "df.loc[(df['INSPECTION_TYPE'] == 'Initial') & (df['RESULT'] == 'Rat Activity'), 'RAT_ACTIVITY'] = 1\n",
    "df.loc[(df['INSPECTION_TYPE'] == 'Compliance') & (df['RESULT'] == 'Rat Activity'), 'RAT_ACTIVITY'] = 1\n",
    "df.loc[df['INSPECTION_TYPE'].isin(['BAIT', 'STOPPAGE', 'CLEAN_UPS']), 'RAT_ACTIVITY'] = 1\n",
    "\n",
    "df\n"
   ]
  },
  {
   "cell_type": "code",
   "execution_count": 8,
   "id": "1f017c5b",
   "metadata": {},
   "outputs": [
    {
     "name": "stdout",
     "output_type": "stream",
     "text": [
      "           INSPECTION_DATE  INSPECTION_MONTH\n",
      "0      2023-03-10 20:10:27                 3\n",
      "1      2023-03-24 12:30:00                 3\n",
      "2      2023-01-20 19:31:22                 1\n",
      "3      2023-05-12 18:22:44                 5\n",
      "4      2023-01-19 21:08:39                 1\n",
      "...                    ...               ...\n",
      "165367 2023-02-03 16:55:09                 2\n",
      "165368 2023-02-03 20:30:05                 2\n",
      "165369 2023-05-26 17:10:32                 5\n",
      "165370 2023-02-03 21:00:12                 2\n",
      "165371 2023-03-02 18:51:42                 3\n",
      "\n",
      "[165372 rows x 2 columns]\n"
     ]
    }
   ],
   "source": [
    "#Data engineering features\n",
    "# Convert the 'INSPECTION_DATE' column to datetime format\n",
    "df['INSPECTION_DATE'] = pd.to_datetime(df['INSPECTION_DATE'])\n",
    "\n",
    "# Extract the month from the 'INSPECTION_DATE' column\n",
    "df['INSPECTION_MONTH'] = df['INSPECTION_DATE'].dt.month\n",
    "\n",
    "# Print the updated dataframe\n",
    "print(df[['INSPECTION_DATE', 'INSPECTION_MONTH']])"
   ]
  },
  {
   "cell_type": "markdown",
   "id": "ddc1c2bf",
   "metadata": {},
   "source": [
    "The encoding method you've used for ZIP codes is known as target (or mean) encoding. This method involves encoding a categorical variable based on the mean of the target variable for each category. It can be a powerful way of encoding categorical variables when the number of categories is large, and there's a relationship between the categories and the target."
   ]
  },
  {
   "cell_type": "code",
   "execution_count": 9,
   "id": "51ae708f",
   "metadata": {},
   "outputs": [],
   "source": [
    "# Group the data by ZIP code and compute the mean of RAT_ACTIVITY\n",
    "mean_rat_activity = df.groupby('ZIP_CODE')['RAT_ACTIVITY'].mean()\n",
    "\n",
    "# Create a dictionary mapping each ZIP code to its corresponding mean\n",
    "zip_code_to_mean = dict(mean_rat_activity)\n",
    "\n",
    "# Replace the values in the ZIP_CODE column with the values from the dictionary\n",
    "df['ZIP_CODE_ENCODED'] = df['ZIP_CODE'].map(zip_code_to_mean)\n"
   ]
  },
  {
   "cell_type": "code",
   "execution_count": 10,
   "id": "ac81c84a",
   "metadata": {},
   "outputs": [],
   "source": [
    "df_ml = df.drop(columns=['ZIP_CODE', 'INSPECTION_DATE', 'RESULT'])"
   ]
  },
  {
   "cell_type": "code",
   "execution_count": 11,
   "id": "2b0a8f13",
   "metadata": {},
   "outputs": [
    {
     "data": {
      "text/html": [
       "<div>\n",
       "<style scoped>\n",
       "    .dataframe tbody tr th:only-of-type {\n",
       "        vertical-align: middle;\n",
       "    }\n",
       "\n",
       "    .dataframe tbody tr th {\n",
       "        vertical-align: top;\n",
       "    }\n",
       "\n",
       "    .dataframe thead th {\n",
       "        text-align: right;\n",
       "    }\n",
       "</style>\n",
       "<table border=\"1\" class=\"dataframe\">\n",
       "  <thead>\n",
       "    <tr style=\"text-align: right;\">\n",
       "      <th></th>\n",
       "      <th>RAT_ACTIVITY</th>\n",
       "      <th>INSPECTION_MONTH</th>\n",
       "      <th>ZIP_CODE_ENCODED</th>\n",
       "      <th>INSPECTION_TYPE_CLEAN_UPS</th>\n",
       "      <th>INSPECTION_TYPE_Compliance</th>\n",
       "      <th>INSPECTION_TYPE_Initial</th>\n",
       "      <th>INSPECTION_TYPE_STOPPAGE</th>\n",
       "      <th>BOROUGH_Brooklyn</th>\n",
       "      <th>BOROUGH_Manhattan</th>\n",
       "      <th>BOROUGH_Queens</th>\n",
       "      <th>BOROUGH_Staten Island</th>\n",
       "    </tr>\n",
       "  </thead>\n",
       "  <tbody>\n",
       "    <tr>\n",
       "      <th>0</th>\n",
       "      <td>0</td>\n",
       "      <td>3</td>\n",
       "      <td>0.021053</td>\n",
       "      <td>0</td>\n",
       "      <td>0</td>\n",
       "      <td>1</td>\n",
       "      <td>0</td>\n",
       "      <td>0</td>\n",
       "      <td>0</td>\n",
       "      <td>0</td>\n",
       "      <td>0</td>\n",
       "    </tr>\n",
       "    <tr>\n",
       "      <th>1</th>\n",
       "      <td>1</td>\n",
       "      <td>3</td>\n",
       "      <td>0.637914</td>\n",
       "      <td>0</td>\n",
       "      <td>0</td>\n",
       "      <td>1</td>\n",
       "      <td>0</td>\n",
       "      <td>0</td>\n",
       "      <td>1</td>\n",
       "      <td>0</td>\n",
       "      <td>0</td>\n",
       "    </tr>\n",
       "    <tr>\n",
       "      <th>2</th>\n",
       "      <td>0</td>\n",
       "      <td>1</td>\n",
       "      <td>0.470306</td>\n",
       "      <td>0</td>\n",
       "      <td>0</td>\n",
       "      <td>1</td>\n",
       "      <td>0</td>\n",
       "      <td>0</td>\n",
       "      <td>1</td>\n",
       "      <td>0</td>\n",
       "      <td>0</td>\n",
       "    </tr>\n",
       "    <tr>\n",
       "      <th>3</th>\n",
       "      <td>0</td>\n",
       "      <td>5</td>\n",
       "      <td>0.383615</td>\n",
       "      <td>0</td>\n",
       "      <td>0</td>\n",
       "      <td>1</td>\n",
       "      <td>0</td>\n",
       "      <td>1</td>\n",
       "      <td>0</td>\n",
       "      <td>0</td>\n",
       "      <td>0</td>\n",
       "    </tr>\n",
       "    <tr>\n",
       "      <th>4</th>\n",
       "      <td>0</td>\n",
       "      <td>1</td>\n",
       "      <td>0.503724</td>\n",
       "      <td>0</td>\n",
       "      <td>0</td>\n",
       "      <td>1</td>\n",
       "      <td>0</td>\n",
       "      <td>0</td>\n",
       "      <td>0</td>\n",
       "      <td>0</td>\n",
       "      <td>0</td>\n",
       "    </tr>\n",
       "  </tbody>\n",
       "</table>\n",
       "</div>"
      ],
      "text/plain": [
       "   RAT_ACTIVITY  INSPECTION_MONTH  ZIP_CODE_ENCODED  \\\n",
       "0             0                 3          0.021053   \n",
       "1             1                 3          0.637914   \n",
       "2             0                 1          0.470306   \n",
       "3             0                 5          0.383615   \n",
       "4             0                 1          0.503724   \n",
       "\n",
       "   INSPECTION_TYPE_CLEAN_UPS  INSPECTION_TYPE_Compliance  \\\n",
       "0                          0                           0   \n",
       "1                          0                           0   \n",
       "2                          0                           0   \n",
       "3                          0                           0   \n",
       "4                          0                           0   \n",
       "\n",
       "   INSPECTION_TYPE_Initial  INSPECTION_TYPE_STOPPAGE  BOROUGH_Brooklyn  \\\n",
       "0                        1                         0                 0   \n",
       "1                        1                         0                 0   \n",
       "2                        1                         0                 0   \n",
       "3                        1                         0                 1   \n",
       "4                        1                         0                 0   \n",
       "\n",
       "   BOROUGH_Manhattan  BOROUGH_Queens  BOROUGH_Staten Island  \n",
       "0                  0               0                      0  \n",
       "1                  1               0                      0  \n",
       "2                  1               0                      0  \n",
       "3                  0               0                      0  \n",
       "4                  0               0                      0  "
      ]
     },
     "execution_count": 11,
     "metadata": {},
     "output_type": "execute_result"
    }
   ],
   "source": [
    "# One-hot encode the INSPECTION_TYPE and BOROUGH columns\n",
    "df_ml = pd.get_dummies(df_ml, columns=['INSPECTION_TYPE', 'BOROUGH'], drop_first=True)\n",
    "\n",
    "# Display the resulting dataframe\n",
    "df_ml.head()"
   ]
  },
  {
   "cell_type": "code",
   "execution_count": 12,
   "id": "dd09399e",
   "metadata": {},
   "outputs": [],
   "source": [
    "# Split our preprocessed data into our features and target arrays\n",
    "y = df_ml[\"RAT_ACTIVITY\"].values\n",
    "X = df_ml.drop(columns=[\"RAT_ACTIVITY\"]).values\n",
    "\n",
    "# Split the preprocessed data into a training and testing dataset\n",
    "X_train, X_test, y_train, y_test = train_test_split(X, y, random_state=42)"
   ]
  },
  {
   "cell_type": "code",
   "execution_count": 13,
   "id": "1cdc759f",
   "metadata": {},
   "outputs": [],
   "source": [
    "# Create a StandardScaler instances\n",
    "scaler = StandardScaler()\n",
    "\n",
    "# Fit the StandardScaler\n",
    "X_scaler = scaler.fit(X_train)\n",
    "\n",
    "# Scale the data\n",
    "X_train_scaled = X_scaler.transform(X_train)\n",
    "X_test_scaled = X_scaler.transform(X_test)"
   ]
  },
  {
   "cell_type": "code",
   "execution_count": 14,
   "id": "d09a2498",
   "metadata": {},
   "outputs": [
    {
     "name": "stdout",
     "output_type": "stream",
     "text": [
      "(124029, 10)\n"
     ]
    }
   ],
   "source": [
    "print(X_train_scaled.shape)"
   ]
  },
  {
   "cell_type": "code",
   "execution_count": 15,
   "id": "51734b69",
   "metadata": {},
   "outputs": [
    {
     "name": "stdout",
     "output_type": "stream",
     "text": [
      "Model: \"sequential\"\n",
      "_________________________________________________________________\n",
      " Layer (type)                Output Shape              Param #   \n",
      "=================================================================\n",
      " dense (Dense)               (None, 16)                176       \n",
      "                                                                 \n",
      " dense_1 (Dense)             (None, 8)                 136       \n",
      "                                                                 \n",
      " dense_2 (Dense)             (None, 1)                 9         \n",
      "                                                                 \n",
      "=================================================================\n",
      "Total params: 321\n",
      "Trainable params: 321\n",
      "Non-trainable params: 0\n",
      "_________________________________________________________________\n"
     ]
    }
   ],
   "source": [
    "nn = tf.keras.models.Sequential()\n",
    "\n",
    "# First hidden layer\n",
    "nn.add(tf.keras.layers.Dense(units=16, activation=\"relu\", input_dim=X_train_scaled.shape[1]))\n",
    "\n",
    "# Second hidden layer\n",
    "nn.add(tf.keras.layers.Dense(units=8, activation=\"relu\"))\n",
    "\n",
    "# Output layer\n",
    "nn.add(tf.keras.layers.Dense(units=1, activation=\"sigmoid\"))\n",
    "\n",
    "# Check the structure of the model\n",
    "nn.summary()"
   ]
  },
  {
   "cell_type": "code",
   "execution_count": 16,
   "id": "65281a14",
   "metadata": {},
   "outputs": [
    {
     "name": "stdout",
     "output_type": "stream",
     "text": [
      "Epoch 1/50\n",
      "3876/3876 [==============================] - 5s 1ms/step - loss: 0.4295 - accuracy: 0.7945 - val_loss: 0.4162 - val_accuracy: 0.7996\n",
      "Epoch 2/50\n",
      "3876/3876 [==============================] - 4s 1ms/step - loss: 0.4162 - accuracy: 0.7991 - val_loss: 0.4168 - val_accuracy: 0.7956\n",
      "Epoch 3/50\n",
      "3876/3876 [==============================] - 4s 1ms/step - loss: 0.4155 - accuracy: 0.7992 - val_loss: 0.4154 - val_accuracy: 0.7999\n",
      "Epoch 4/50\n",
      "3876/3876 [==============================] - 4s 1ms/step - loss: 0.4151 - accuracy: 0.7998 - val_loss: 0.4179 - val_accuracy: 0.7995\n",
      "Epoch 5/50\n",
      "3876/3876 [==============================] - 4s 1ms/step - loss: 0.4150 - accuracy: 0.7997 - val_loss: 0.4148 - val_accuracy: 0.7998\n",
      "Epoch 6/50\n",
      "3876/3876 [==============================] - 4s 1ms/step - loss: 0.4147 - accuracy: 0.8000 - val_loss: 0.4147 - val_accuracy: 0.7979\n",
      "Epoch 7/50\n",
      "3876/3876 [==============================] - 5s 1ms/step - loss: 0.4144 - accuracy: 0.8003 - val_loss: 0.4158 - val_accuracy: 0.7978\n",
      "Epoch 8/50\n",
      "3876/3876 [==============================] - 4s 1ms/step - loss: 0.4142 - accuracy: 0.8004 - val_loss: 0.4144 - val_accuracy: 0.8006\n",
      "Epoch 9/50\n",
      "3876/3876 [==============================] - 4s 1ms/step - loss: 0.4142 - accuracy: 0.7998 - val_loss: 0.4144 - val_accuracy: 0.7999\n",
      "Epoch 10/50\n",
      "3876/3876 [==============================] - 4s 1ms/step - loss: 0.4141 - accuracy: 0.8002 - val_loss: 0.4146 - val_accuracy: 0.7997\n",
      "Epoch 11/50\n",
      "3876/3876 [==============================] - 4s 1ms/step - loss: 0.4141 - accuracy: 0.8000 - val_loss: 0.4141 - val_accuracy: 0.7990\n",
      "Epoch 12/50\n",
      "3876/3876 [==============================] - 4s 1ms/step - loss: 0.4139 - accuracy: 0.8002 - val_loss: 0.4150 - val_accuracy: 0.7986\n",
      "Epoch 13/50\n",
      "3876/3876 [==============================] - 4s 1ms/step - loss: 0.4138 - accuracy: 0.8001 - val_loss: 0.4144 - val_accuracy: 0.8003\n",
      "Epoch 14/50\n",
      "3876/3876 [==============================] - 4s 1ms/step - loss: 0.4137 - accuracy: 0.8006 - val_loss: 0.4138 - val_accuracy: 0.8004\n",
      "Epoch 15/50\n",
      "3876/3876 [==============================] - 5s 1ms/step - loss: 0.4135 - accuracy: 0.8007 - val_loss: 0.4142 - val_accuracy: 0.8004\n",
      "Epoch 16/50\n",
      "3876/3876 [==============================] - 5s 1ms/step - loss: 0.4137 - accuracy: 0.8002 - val_loss: 0.4139 - val_accuracy: 0.7995\n",
      "Epoch 17/50\n",
      "3876/3876 [==============================] - 5s 1ms/step - loss: 0.4137 - accuracy: 0.8001 - val_loss: 0.4137 - val_accuracy: 0.8010\n",
      "Epoch 18/50\n",
      "3876/3876 [==============================] - 5s 1ms/step - loss: 0.4136 - accuracy: 0.8004 - val_loss: 0.4136 - val_accuracy: 0.8003\n",
      "Epoch 19/50\n",
      "3876/3876 [==============================] - 5s 1ms/step - loss: 0.4135 - accuracy: 0.8005 - val_loss: 0.4142 - val_accuracy: 0.7996\n",
      "Epoch 20/50\n",
      "3876/3876 [==============================] - 5s 1ms/step - loss: 0.4135 - accuracy: 0.8006 - val_loss: 0.4138 - val_accuracy: 0.8007\n",
      "Epoch 21/50\n",
      "3876/3876 [==============================] - 5s 1ms/step - loss: 0.4133 - accuracy: 0.8002 - val_loss: 0.4135 - val_accuracy: 0.8004\n",
      "Epoch 22/50\n",
      "3876/3876 [==============================] - 5s 1ms/step - loss: 0.4134 - accuracy: 0.8003 - val_loss: 0.4143 - val_accuracy: 0.8001\n",
      "Epoch 23/50\n",
      "3876/3876 [==============================] - 5s 1ms/step - loss: 0.4133 - accuracy: 0.8004 - val_loss: 0.4139 - val_accuracy: 0.8004\n",
      "Epoch 24/50\n",
      "3876/3876 [==============================] - 5s 1ms/step - loss: 0.4132 - accuracy: 0.8002 - val_loss: 0.4139 - val_accuracy: 0.8001\n",
      "Epoch 25/50\n",
      "3876/3876 [==============================] - 5s 1ms/step - loss: 0.4133 - accuracy: 0.8004 - val_loss: 0.4144 - val_accuracy: 0.8000\n",
      "Epoch 26/50\n",
      "3876/3876 [==============================] - 5s 1ms/step - loss: 0.4132 - accuracy: 0.8000 - val_loss: 0.4132 - val_accuracy: 0.8004\n",
      "Epoch 27/50\n",
      "3876/3876 [==============================] - 5s 1ms/step - loss: 0.4132 - accuracy: 0.8005 - val_loss: 0.4131 - val_accuracy: 0.7994\n",
      "Epoch 28/50\n",
      "3876/3876 [==============================] - 5s 1ms/step - loss: 0.4131 - accuracy: 0.8003 - val_loss: 0.4134 - val_accuracy: 0.8004\n",
      "Epoch 29/50\n",
      "3876/3876 [==============================] - 5s 1ms/step - loss: 0.4130 - accuracy: 0.8005 - val_loss: 0.4130 - val_accuracy: 0.8004\n",
      "Epoch 30/50\n",
      "3876/3876 [==============================] - 4s 1ms/step - loss: 0.4130 - accuracy: 0.8002 - val_loss: 0.4131 - val_accuracy: 0.7999\n",
      "Epoch 31/50\n",
      "3876/3876 [==============================] - 4s 1ms/step - loss: 0.4129 - accuracy: 0.8003 - val_loss: 0.4132 - val_accuracy: 0.8006\n",
      "Epoch 32/50\n",
      "3876/3876 [==============================] - 5s 1ms/step - loss: 0.4128 - accuracy: 0.8002 - val_loss: 0.4136 - val_accuracy: 0.7995\n",
      "Epoch 33/50\n",
      "3876/3876 [==============================] - 5s 1ms/step - loss: 0.4128 - accuracy: 0.8006 - val_loss: 0.4130 - val_accuracy: 0.8006\n",
      "Epoch 34/50\n",
      "3876/3876 [==============================] - 4s 1ms/step - loss: 0.4127 - accuracy: 0.8006 - val_loss: 0.4130 - val_accuracy: 0.8010\n",
      "Epoch 35/50\n",
      "3876/3876 [==============================] - 4s 1ms/step - loss: 0.4128 - accuracy: 0.8003 - val_loss: 0.4128 - val_accuracy: 0.8000\n",
      "Epoch 36/50\n",
      "3876/3876 [==============================] - 4s 1ms/step - loss: 0.4127 - accuracy: 0.8012 - val_loss: 0.4135 - val_accuracy: 0.8001\n",
      "Epoch 37/50\n",
      "3876/3876 [==============================] - 4s 1ms/step - loss: 0.4127 - accuracy: 0.8004 - val_loss: 0.4130 - val_accuracy: 0.8003\n",
      "Epoch 38/50\n",
      "3876/3876 [==============================] - 4s 1ms/step - loss: 0.4126 - accuracy: 0.8003 - val_loss: 0.4132 - val_accuracy: 0.8003\n",
      "Epoch 39/50\n",
      "3876/3876 [==============================] - 4s 1ms/step - loss: 0.4127 - accuracy: 0.8003 - val_loss: 0.4129 - val_accuracy: 0.8010\n",
      "Epoch 40/50\n",
      "3876/3876 [==============================] - 4s 1ms/step - loss: 0.4126 - accuracy: 0.8007 - val_loss: 0.4128 - val_accuracy: 0.8004\n",
      "Epoch 41/50\n",
      "3876/3876 [==============================] - 4s 1ms/step - loss: 0.4126 - accuracy: 0.8006 - val_loss: 0.4124 - val_accuracy: 0.8004\n",
      "Epoch 42/50\n",
      "3876/3876 [==============================] - 4s 1ms/step - loss: 0.4126 - accuracy: 0.8007 - val_loss: 0.4133 - val_accuracy: 0.8009\n",
      "Epoch 43/50\n",
      "3876/3876 [==============================] - 4s 1ms/step - loss: 0.4126 - accuracy: 0.8007 - val_loss: 0.4130 - val_accuracy: 0.8007\n",
      "Epoch 44/50\n",
      "3876/3876 [==============================] - 5s 1ms/step - loss: 0.4126 - accuracy: 0.8004 - val_loss: 0.4125 - val_accuracy: 0.8005\n",
      "Epoch 45/50\n",
      "3876/3876 [==============================] - 4s 1ms/step - loss: 0.4125 - accuracy: 0.8006 - val_loss: 0.4129 - val_accuracy: 0.8002\n",
      "Epoch 46/50\n",
      "3876/3876 [==============================] - 4s 1ms/step - loss: 0.4125 - accuracy: 0.8004 - val_loss: 0.4127 - val_accuracy: 0.8004\n",
      "Epoch 47/50\n",
      "3876/3876 [==============================] - 4s 1ms/step - loss: 0.4125 - accuracy: 0.8006 - val_loss: 0.4130 - val_accuracy: 0.8001\n",
      "Epoch 48/50\n",
      "3876/3876 [==============================] - 4s 1ms/step - loss: 0.4125 - accuracy: 0.8004 - val_loss: 0.4127 - val_accuracy: 0.8009\n",
      "Epoch 49/50\n",
      "3876/3876 [==============================] - 4s 1ms/step - loss: 0.4125 - accuracy: 0.8007 - val_loss: 0.4126 - val_accuracy: 0.7998\n",
      "Epoch 50/50\n",
      "3876/3876 [==============================] - 4s 1ms/step - loss: 0.4123 - accuracy: 0.8006 - val_loss: 0.4129 - val_accuracy: 0.8007\n"
     ]
    }
   ],
   "source": [
    "# Compile the model\n",
    "nn.compile(optimizer='adam',\n",
    "           loss='binary_crossentropy',\n",
    "           metrics=['accuracy'])\n",
    "\n",
    "# Train the model\n",
    "history = nn.fit(\n",
    "    X_train_scaled,\n",
    "    y_train,\n",
    "    epochs=50,\n",
    "    batch_size=32,\n",
    "    validation_data=(X_test_scaled, y_test)\n",
    ")\n"
   ]
  },
  {
   "cell_type": "code",
   "execution_count": 17,
   "id": "5899a255",
   "metadata": {},
   "outputs": [
    {
     "name": "stdout",
     "output_type": "stream",
     "text": [
      "1292/1292 - 1s - loss: 0.4129 - accuracy: 0.8007 - 917ms/epoch - 710us/step\n",
      "Loss: 0.4128721058368683, Accuracy: 0.8006917834281921\n"
     ]
    }
   ],
   "source": [
    "model_loss, model_accuracy = nn.evaluate(X_test_scaled,y_test,verbose=2)\n",
    "print(f\"Loss: {model_loss}, Accuracy: {model_accuracy}\")"
   ]
  },
  {
   "cell_type": "markdown",
   "id": "25095399",
   "metadata": {},
   "source": [
    "That was the test of the nn on the full data set. Now we will train it on the boroughs to see how it does there. We will look at Brooklyn, Bronx and Manhattan (highest incidences of rats)"
   ]
  },
  {
   "cell_type": "code",
   "execution_count": 18,
   "id": "62eb6388",
   "metadata": {},
   "outputs": [],
   "source": [
    "# Filter the DataFrame into separate DataFrames for each borough\n",
    "staten_island = df[df['BOROUGH'] == 'Staten Island']\n",
    "bronx = df[df['BOROUGH'] == 'Bronx']\n",
    "brooklyn = df[df['BOROUGH'] == 'Brooklyn']\n",
    "manhattan = df[df['BOROUGH'] == 'Manhattan']\n",
    "queens = df[df['BOROUGH'] == 'Queens']\n"
   ]
  },
  {
   "cell_type": "code",
   "execution_count": 19,
   "id": "8a5a4b46",
   "metadata": {},
   "outputs": [
    {
     "name": "stderr",
     "output_type": "stream",
     "text": [
      "C:\\Users\\abrid\\anaconda3\\envs\\PythonData\\lib\\site-packages\\pandas\\core\\frame.py:4913: SettingWithCopyWarning: \n",
      "A value is trying to be set on a copy of a slice from a DataFrame\n",
      "\n",
      "See the caveats in the documentation: https://pandas.pydata.org/pandas-docs/stable/user_guide/indexing.html#returning-a-view-versus-a-copy\n",
      "  errors=errors,\n"
     ]
    }
   ],
   "source": [
    "def preprocess_borough_data(borough_data):\n",
    "    # Drop the unnecessary columns\n",
    "    borough_data.drop(columns=['INSPECTION_DATE', 'RESULT', 'BOROUGH'], inplace=True)\n",
    "\n",
    "    # One-hot encode the INSPECTION_TYPE column\n",
    "    borough_data = pd.get_dummies(borough_data, columns=['INSPECTION_TYPE'], drop_first=True)\n",
    "\n",
    "    # Drop the ZIP_CODE column (since we already have the encoded version)\n",
    "    borough_data.drop(columns=['ZIP_CODE'], inplace=True)\n",
    "    \n",
    "    return borough_data\n",
    "\n",
    "# Preprocess the data for each borough\n",
    "staten_island_ml = preprocess_borough_data(staten_island)\n",
    "bronx_ml = preprocess_borough_data(bronx)\n",
    "brooklyn_ml = preprocess_borough_data(brooklyn)\n",
    "manhattan_ml = preprocess_borough_data(manhattan)\n",
    "queens_ml = preprocess_borough_data(queens)"
   ]
  },
  {
   "cell_type": "markdown",
   "id": "b83824f5",
   "metadata": {},
   "source": [
    "BROOKLYN DATA TEST"
   ]
  },
  {
   "cell_type": "code",
   "execution_count": 20,
   "id": "a57cf694",
   "metadata": {},
   "outputs": [],
   "source": [
    "# Split our preprocessed data into our features and target arrays\n",
    "y = brooklyn_ml[\"RAT_ACTIVITY\"].values\n",
    "X = brooklyn_ml.drop(columns=[\"RAT_ACTIVITY\"]).values\n",
    "\n",
    "# Split the preprocessed data into a training and testing dataset\n",
    "X_train, X_test, y_train, y_test = train_test_split(X, y, random_state=42)\n"
   ]
  },
  {
   "cell_type": "code",
   "execution_count": 21,
   "id": "77bc12e2",
   "metadata": {},
   "outputs": [
    {
     "name": "stdout",
     "output_type": "stream",
     "text": [
      "(36886, 6)\n"
     ]
    }
   ],
   "source": [
    "# Create a StandardScaler instances\n",
    "scaler = StandardScaler()\n",
    "\n",
    "# Fit the StandardScaler\n",
    "X_scaler = scaler.fit(X_train)\n",
    "\n",
    "# Scale the data\n",
    "X_train_scaled = X_scaler.transform(X_train)\n",
    "X_test_scaled = X_scaler.transform(X_test)\n",
    "\n",
    "print(X_train_scaled.shape)"
   ]
  },
  {
   "cell_type": "code",
   "execution_count": 22,
   "id": "8ed1ae8f",
   "metadata": {},
   "outputs": [
    {
     "name": "stdout",
     "output_type": "stream",
     "text": [
      "Model: \"sequential_1\"\n",
      "_________________________________________________________________\n",
      " Layer (type)                Output Shape              Param #   \n",
      "=================================================================\n",
      " dense_3 (Dense)             (None, 16)                112       \n",
      "                                                                 \n",
      " dense_4 (Dense)             (None, 8)                 136       \n",
      "                                                                 \n",
      " dense_5 (Dense)             (None, 1)                 9         \n",
      "                                                                 \n",
      "=================================================================\n",
      "Total params: 257\n",
      "Trainable params: 257\n",
      "Non-trainable params: 0\n",
      "_________________________________________________________________\n"
     ]
    }
   ],
   "source": [
    "nn = tf.keras.models.Sequential()\n",
    "\n",
    "# First hidden layer\n",
    "nn.add(tf.keras.layers.Dense(units=16, activation=\"relu\", input_dim=X_train_scaled.shape[1]))\n",
    "\n",
    "# Second hidden layer\n",
    "nn.add(tf.keras.layers.Dense(units=8, activation=\"relu\"))\n",
    "\n",
    "# Output layer\n",
    "nn.add(tf.keras.layers.Dense(units=1, activation=\"sigmoid\"))\n",
    "\n",
    "# Check the structure of the model\n",
    "nn.summary()"
   ]
  },
  {
   "cell_type": "code",
   "execution_count": 23,
   "id": "f307a132",
   "metadata": {
    "scrolled": true
   },
   "outputs": [
    {
     "name": "stdout",
     "output_type": "stream",
     "text": [
      "Epoch 1/50\n",
      "1153/1153 [==============================] - 2s 1ms/step - loss: 0.4751 - accuracy: 0.7751 - val_loss: 0.4431 - val_accuracy: 0.7890\n",
      "Epoch 2/50\n",
      "1153/1153 [==============================] - 1s 1ms/step - loss: 0.4480 - accuracy: 0.7864 - val_loss: 0.4427 - val_accuracy: 0.7898\n",
      "Epoch 3/50\n",
      "1153/1153 [==============================] - 1s 1ms/step - loss: 0.4470 - accuracy: 0.7872 - val_loss: 0.4412 - val_accuracy: 0.7907\n",
      "Epoch 4/50\n",
      "1153/1153 [==============================] - 1s 1ms/step - loss: 0.4466 - accuracy: 0.7878 - val_loss: 0.4412 - val_accuracy: 0.7901\n",
      "Epoch 5/50\n",
      "1153/1153 [==============================] - 1s 1ms/step - loss: 0.4464 - accuracy: 0.7878 - val_loss: 0.4415 - val_accuracy: 0.7911\n",
      "Epoch 6/50\n",
      "1153/1153 [==============================] - 1s 1ms/step - loss: 0.4463 - accuracy: 0.7872 - val_loss: 0.4408 - val_accuracy: 0.7909\n",
      "Epoch 7/50\n",
      "1153/1153 [==============================] - 1s 1ms/step - loss: 0.4461 - accuracy: 0.7885 - val_loss: 0.4412 - val_accuracy: 0.7903\n",
      "Epoch 8/50\n",
      "1153/1153 [==============================] - 1s 1ms/step - loss: 0.4458 - accuracy: 0.7882 - val_loss: 0.4408 - val_accuracy: 0.7911\n",
      "Epoch 9/50\n",
      "1153/1153 [==============================] - 1s 1ms/step - loss: 0.4459 - accuracy: 0.7878 - val_loss: 0.4407 - val_accuracy: 0.7910\n",
      "Epoch 10/50\n",
      "1153/1153 [==============================] - 1s 1ms/step - loss: 0.4458 - accuracy: 0.7879 - val_loss: 0.4443 - val_accuracy: 0.7908\n",
      "Epoch 11/50\n",
      "1153/1153 [==============================] - 1s 1ms/step - loss: 0.4458 - accuracy: 0.7879 - val_loss: 0.4411 - val_accuracy: 0.7912\n",
      "Epoch 12/50\n",
      "1153/1153 [==============================] - 1s 1ms/step - loss: 0.4456 - accuracy: 0.7878 - val_loss: 0.4406 - val_accuracy: 0.7911\n",
      "Epoch 13/50\n",
      "1153/1153 [==============================] - 1s 1ms/step - loss: 0.4455 - accuracy: 0.7876 - val_loss: 0.4426 - val_accuracy: 0.7899\n",
      "Epoch 14/50\n",
      "1153/1153 [==============================] - 1s 1ms/step - loss: 0.4457 - accuracy: 0.7882 - val_loss: 0.4406 - val_accuracy: 0.7903\n",
      "Epoch 15/50\n",
      "1153/1153 [==============================] - 1s 1ms/step - loss: 0.4457 - accuracy: 0.7880 - val_loss: 0.4404 - val_accuracy: 0.7909\n",
      "Epoch 16/50\n",
      "1153/1153 [==============================] - 1s 1ms/step - loss: 0.4455 - accuracy: 0.7878 - val_loss: 0.4409 - val_accuracy: 0.7909\n",
      "Epoch 17/50\n",
      "1153/1153 [==============================] - 1s 1ms/step - loss: 0.4454 - accuracy: 0.7883 - val_loss: 0.4415 - val_accuracy: 0.7909\n",
      "Epoch 18/50\n",
      "1153/1153 [==============================] - 1s 1ms/step - loss: 0.4455 - accuracy: 0.7881 - val_loss: 0.4398 - val_accuracy: 0.7903\n",
      "Epoch 19/50\n",
      "1153/1153 [==============================] - 1s 1ms/step - loss: 0.4453 - accuracy: 0.7883 - val_loss: 0.4403 - val_accuracy: 0.7908\n",
      "Epoch 20/50\n",
      "1153/1153 [==============================] - 1s 1ms/step - loss: 0.4451 - accuracy: 0.7880 - val_loss: 0.4401 - val_accuracy: 0.7912\n",
      "Epoch 21/50\n",
      "1153/1153 [==============================] - 1s 1ms/step - loss: 0.4453 - accuracy: 0.7882 - val_loss: 0.4397 - val_accuracy: 0.7910\n",
      "Epoch 22/50\n",
      "1153/1153 [==============================] - 1s 1ms/step - loss: 0.4451 - accuracy: 0.7881 - val_loss: 0.4408 - val_accuracy: 0.7905\n",
      "Epoch 23/50\n",
      "1153/1153 [==============================] - 1s 1ms/step - loss: 0.4453 - accuracy: 0.7880 - val_loss: 0.4403 - val_accuracy: 0.7911\n",
      "Epoch 24/50\n",
      "1153/1153 [==============================] - 1s 1ms/step - loss: 0.4453 - accuracy: 0.7881 - val_loss: 0.4398 - val_accuracy: 0.7911\n",
      "Epoch 25/50\n",
      "1153/1153 [==============================] - 1s 1ms/step - loss: 0.4450 - accuracy: 0.7883 - val_loss: 0.4397 - val_accuracy: 0.7911\n",
      "Epoch 26/50\n",
      "1153/1153 [==============================] - 1s 1ms/step - loss: 0.4450 - accuracy: 0.7882 - val_loss: 0.4396 - val_accuracy: 0.7910\n",
      "Epoch 27/50\n",
      "1153/1153 [==============================] - 1s 1ms/step - loss: 0.4451 - accuracy: 0.7884 - val_loss: 0.4396 - val_accuracy: 0.7911\n",
      "Epoch 28/50\n",
      "1153/1153 [==============================] - 2s 1ms/step - loss: 0.4451 - accuracy: 0.7883 - val_loss: 0.4402 - val_accuracy: 0.7909\n",
      "Epoch 29/50\n",
      "1153/1153 [==============================] - 2s 1ms/step - loss: 0.4450 - accuracy: 0.7882 - val_loss: 0.4399 - val_accuracy: 0.7911\n",
      "Epoch 30/50\n",
      "1153/1153 [==============================] - 2s 1ms/step - loss: 0.4450 - accuracy: 0.7882 - val_loss: 0.4400 - val_accuracy: 0.7911\n",
      "Epoch 31/50\n",
      "1153/1153 [==============================] - 2s 1ms/step - loss: 0.4449 - accuracy: 0.7884 - val_loss: 0.4402 - val_accuracy: 0.7911\n",
      "Epoch 32/50\n",
      "1153/1153 [==============================] - 1s 1ms/step - loss: 0.4449 - accuracy: 0.7883 - val_loss: 0.4393 - val_accuracy: 0.7909\n",
      "Epoch 33/50\n",
      "1153/1153 [==============================] - 1s 1ms/step - loss: 0.4449 - accuracy: 0.7883 - val_loss: 0.4396 - val_accuracy: 0.7911\n",
      "Epoch 34/50\n",
      "1153/1153 [==============================] - 1s 1ms/step - loss: 0.4449 - accuracy: 0.7883 - val_loss: 0.4400 - val_accuracy: 0.7907\n",
      "Epoch 35/50\n",
      "1153/1153 [==============================] - 1s 1ms/step - loss: 0.4449 - accuracy: 0.7883 - val_loss: 0.4398 - val_accuracy: 0.7907\n",
      "Epoch 36/50\n",
      "1153/1153 [==============================] - 1s 1ms/step - loss: 0.4448 - accuracy: 0.7883 - val_loss: 0.4392 - val_accuracy: 0.7911\n",
      "Epoch 37/50\n",
      "1153/1153 [==============================] - 1s 1ms/step - loss: 0.4446 - accuracy: 0.7883 - val_loss: 0.4398 - val_accuracy: 0.7909\n",
      "Epoch 38/50\n",
      "1153/1153 [==============================] - 1s 1ms/step - loss: 0.4446 - accuracy: 0.7883 - val_loss: 0.4405 - val_accuracy: 0.7907\n",
      "Epoch 39/50\n",
      "1153/1153 [==============================] - 1s 1ms/step - loss: 0.4447 - accuracy: 0.7882 - val_loss: 0.4392 - val_accuracy: 0.7911\n",
      "Epoch 40/50\n",
      "1153/1153 [==============================] - 1s 1ms/step - loss: 0.4446 - accuracy: 0.7882 - val_loss: 0.4395 - val_accuracy: 0.7913\n",
      "Epoch 41/50\n",
      "1153/1153 [==============================] - 1s 1ms/step - loss: 0.4446 - accuracy: 0.7883 - val_loss: 0.4390 - val_accuracy: 0.7908\n",
      "Epoch 42/50\n",
      "1153/1153 [==============================] - 1s 1ms/step - loss: 0.4445 - accuracy: 0.7885 - val_loss: 0.4391 - val_accuracy: 0.7909\n",
      "Epoch 43/50\n",
      "1153/1153 [==============================] - 1s 1ms/step - loss: 0.4445 - accuracy: 0.7882 - val_loss: 0.4392 - val_accuracy: 0.7911\n",
      "Epoch 44/50\n",
      "1153/1153 [==============================] - 1s 1ms/step - loss: 0.4445 - accuracy: 0.7882 - val_loss: 0.4406 - val_accuracy: 0.7909\n",
      "Epoch 45/50\n",
      "1153/1153 [==============================] - 1s 1ms/step - loss: 0.4444 - accuracy: 0.7881 - val_loss: 0.4393 - val_accuracy: 0.7906\n",
      "Epoch 46/50\n",
      "1153/1153 [==============================] - 1s 1ms/step - loss: 0.4445 - accuracy: 0.7883 - val_loss: 0.4396 - val_accuracy: 0.7911\n",
      "Epoch 47/50\n",
      "1153/1153 [==============================] - 1s 1ms/step - loss: 0.4443 - accuracy: 0.7882 - val_loss: 0.4395 - val_accuracy: 0.7911\n",
      "Epoch 48/50\n",
      "1153/1153 [==============================] - 1s 1ms/step - loss: 0.4444 - accuracy: 0.7881 - val_loss: 0.4390 - val_accuracy: 0.7907\n",
      "Epoch 49/50\n",
      "1153/1153 [==============================] - 1s 1ms/step - loss: 0.4444 - accuracy: 0.7882 - val_loss: 0.4393 - val_accuracy: 0.7911\n",
      "Epoch 50/50\n",
      "1153/1153 [==============================] - 1s 1ms/step - loss: 0.4443 - accuracy: 0.7878 - val_loss: 0.4389 - val_accuracy: 0.7905\n"
     ]
    }
   ],
   "source": [
    "# Compile the model\n",
    "nn.compile(optimizer='adam',\n",
    "           loss='binary_crossentropy',\n",
    "           metrics=['accuracy'])\n",
    "\n",
    "# Train the model\n",
    "history = nn.fit(\n",
    "    X_train_scaled,\n",
    "    y_train,\n",
    "    epochs=50,\n",
    "    batch_size=32,\n",
    "    validation_data=(X_test_scaled, y_test)\n",
    ")"
   ]
  },
  {
   "cell_type": "code",
   "execution_count": 24,
   "id": "e63c43eb",
   "metadata": {},
   "outputs": [
    {
     "name": "stdout",
     "output_type": "stream",
     "text": [
      "385/385 - 0s - loss: 0.4389 - accuracy: 0.7905 - 284ms/epoch - 737us/step\n",
      "Loss: 0.4389302134513855, Accuracy: 0.7905009984970093\n"
     ]
    }
   ],
   "source": [
    "model_loss, model_accuracy = nn.evaluate(X_test_scaled,y_test,verbose=2)\n",
    "print(f\"Loss: {model_loss}, Accuracy: {model_accuracy}\")"
   ]
  },
  {
   "cell_type": "markdown",
   "id": "7ab0fa8a",
   "metadata": {},
   "source": [
    "BRONX DATA TEST"
   ]
  },
  {
   "cell_type": "code",
   "execution_count": 25,
   "id": "078c4a92",
   "metadata": {},
   "outputs": [],
   "source": [
    "# Split our preprocessed data into our features and target arrays\n",
    "y = bronx_ml[\"RAT_ACTIVITY\"].values\n",
    "X = bronx_ml.drop(columns=[\"RAT_ACTIVITY\"]).values\n",
    "\n",
    "# Split the preprocessed data into a training and testing dataset\n",
    "X_train, X_test, y_train, y_test = train_test_split(X, y, random_state=42)"
   ]
  },
  {
   "cell_type": "code",
   "execution_count": 26,
   "id": "3765c23d",
   "metadata": {},
   "outputs": [
    {
     "name": "stdout",
     "output_type": "stream",
     "text": [
      "(35812, 6)\n"
     ]
    }
   ],
   "source": [
    "# Create a StandardScaler instances\n",
    "scaler = StandardScaler()\n",
    "\n",
    "# Fit the StandardScaler\n",
    "X_scaler = scaler.fit(X_train)\n",
    "\n",
    "# Scale the data\n",
    "X_train_scaled = X_scaler.transform(X_train)\n",
    "X_test_scaled = X_scaler.transform(X_test)\n",
    "\n",
    "print(X_train_scaled.shape)"
   ]
  },
  {
   "cell_type": "code",
   "execution_count": 27,
   "id": "e98c6c09",
   "metadata": {},
   "outputs": [
    {
     "name": "stdout",
     "output_type": "stream",
     "text": [
      "Model: \"sequential_2\"\n",
      "_________________________________________________________________\n",
      " Layer (type)                Output Shape              Param #   \n",
      "=================================================================\n",
      " dense_6 (Dense)             (None, 16)                112       \n",
      "                                                                 \n",
      " dense_7 (Dense)             (None, 8)                 136       \n",
      "                                                                 \n",
      " dense_8 (Dense)             (None, 1)                 9         \n",
      "                                                                 \n",
      "=================================================================\n",
      "Total params: 257\n",
      "Trainable params: 257\n",
      "Non-trainable params: 0\n",
      "_________________________________________________________________\n"
     ]
    }
   ],
   "source": [
    "nn = tf.keras.models.Sequential()\n",
    "\n",
    "# First hidden layer\n",
    "nn.add(tf.keras.layers.Dense(units=16, activation=\"relu\", input_dim=X_train_scaled.shape[1]))\n",
    "\n",
    "# Second hidden layer\n",
    "nn.add(tf.keras.layers.Dense(units=8, activation=\"relu\"))\n",
    "\n",
    "# Output layer\n",
    "nn.add(tf.keras.layers.Dense(units=1, activation=\"sigmoid\"))\n",
    "\n",
    "# Check the structure of the model\n",
    "nn.summary()"
   ]
  },
  {
   "cell_type": "code",
   "execution_count": 28,
   "id": "1cb00cb0",
   "metadata": {},
   "outputs": [
    {
     "name": "stdout",
     "output_type": "stream",
     "text": [
      "Epoch 1/50\n",
      "1120/1120 [==============================] - 2s 1ms/step - loss: 0.4425 - accuracy: 0.7909 - val_loss: 0.4238 - val_accuracy: 0.7950\n",
      "Epoch 2/50\n",
      "1120/1120 [==============================] - 1s 1ms/step - loss: 0.4217 - accuracy: 0.7959 - val_loss: 0.4229 - val_accuracy: 0.7943\n",
      "Epoch 3/50\n",
      "1120/1120 [==============================] - 1s 1ms/step - loss: 0.4209 - accuracy: 0.7956 - val_loss: 0.4220 - val_accuracy: 0.7949\n",
      "Epoch 4/50\n",
      "1120/1120 [==============================] - 1s 1ms/step - loss: 0.4205 - accuracy: 0.7957 - val_loss: 0.4224 - val_accuracy: 0.7916\n",
      "Epoch 5/50\n",
      "1120/1120 [==============================] - 1s 1ms/step - loss: 0.4204 - accuracy: 0.7961 - val_loss: 0.4221 - val_accuracy: 0.7952\n",
      "Epoch 6/50\n",
      "1120/1120 [==============================] - 1s 1ms/step - loss: 0.4201 - accuracy: 0.7950 - val_loss: 0.4221 - val_accuracy: 0.7940\n",
      "Epoch 7/50\n",
      "1120/1120 [==============================] - 1s 1ms/step - loss: 0.4198 - accuracy: 0.7959 - val_loss: 0.4215 - val_accuracy: 0.7947\n",
      "Epoch 8/50\n",
      "1120/1120 [==============================] - 1s 1ms/step - loss: 0.4198 - accuracy: 0.7960 - val_loss: 0.4228 - val_accuracy: 0.7949\n",
      "Epoch 9/50\n",
      "1120/1120 [==============================] - 1s 1ms/step - loss: 0.4194 - accuracy: 0.7954 - val_loss: 0.4223 - val_accuracy: 0.7943\n",
      "Epoch 10/50\n",
      "1120/1120 [==============================] - 1s 1ms/step - loss: 0.4194 - accuracy: 0.7949 - val_loss: 0.4222 - val_accuracy: 0.7941\n",
      "Epoch 11/50\n",
      "1120/1120 [==============================] - 1s 1ms/step - loss: 0.4198 - accuracy: 0.7960 - val_loss: 0.4219 - val_accuracy: 0.7945\n",
      "Epoch 12/50\n",
      "1120/1120 [==============================] - 1s 1ms/step - loss: 0.4194 - accuracy: 0.7963 - val_loss: 0.4219 - val_accuracy: 0.7945\n",
      "Epoch 13/50\n",
      "1120/1120 [==============================] - 1s 1ms/step - loss: 0.4194 - accuracy: 0.7957 - val_loss: 0.4217 - val_accuracy: 0.7939\n",
      "Epoch 14/50\n",
      "1120/1120 [==============================] - 1s 1ms/step - loss: 0.4194 - accuracy: 0.7963 - val_loss: 0.4215 - val_accuracy: 0.7949\n",
      "Epoch 15/50\n",
      "1120/1120 [==============================] - 1s 1ms/step - loss: 0.4194 - accuracy: 0.7954 - val_loss: 0.4215 - val_accuracy: 0.7949\n",
      "Epoch 16/50\n",
      "1120/1120 [==============================] - 1s 1ms/step - loss: 0.4193 - accuracy: 0.7954 - val_loss: 0.4216 - val_accuracy: 0.7949\n",
      "Epoch 17/50\n",
      "1120/1120 [==============================] - 1s 1ms/step - loss: 0.4194 - accuracy: 0.7956 - val_loss: 0.4217 - val_accuracy: 0.7949\n",
      "Epoch 18/50\n",
      "1120/1120 [==============================] - 1s 1ms/step - loss: 0.4193 - accuracy: 0.7959 - val_loss: 0.4218 - val_accuracy: 0.7939\n",
      "Epoch 19/50\n",
      "1120/1120 [==============================] - 1s 1ms/step - loss: 0.4193 - accuracy: 0.7965 - val_loss: 0.4210 - val_accuracy: 0.7946\n",
      "Epoch 20/50\n",
      "1120/1120 [==============================] - 1s 1ms/step - loss: 0.4188 - accuracy: 0.7956 - val_loss: 0.4223 - val_accuracy: 0.7933\n",
      "Epoch 21/50\n",
      "1120/1120 [==============================] - 1s 1ms/step - loss: 0.4191 - accuracy: 0.7959 - val_loss: 0.4231 - val_accuracy: 0.7933\n",
      "Epoch 22/50\n",
      "1120/1120 [==============================] - 1s 1ms/step - loss: 0.4189 - accuracy: 0.7958 - val_loss: 0.4212 - val_accuracy: 0.7958\n",
      "Epoch 23/50\n",
      "1120/1120 [==============================] - 1s 1ms/step - loss: 0.4191 - accuracy: 0.7961 - val_loss: 0.4216 - val_accuracy: 0.7942\n",
      "Epoch 24/50\n",
      "1120/1120 [==============================] - 1s 1ms/step - loss: 0.4188 - accuracy: 0.7961 - val_loss: 0.4220 - val_accuracy: 0.7933\n",
      "Epoch 25/50\n",
      "1120/1120 [==============================] - 1s 1ms/step - loss: 0.4189 - accuracy: 0.7958 - val_loss: 0.4217 - val_accuracy: 0.7946\n",
      "Epoch 26/50\n",
      "1120/1120 [==============================] - 1s 1ms/step - loss: 0.4188 - accuracy: 0.7965 - val_loss: 0.4213 - val_accuracy: 0.7939\n",
      "Epoch 27/50\n",
      "1120/1120 [==============================] - 1s 1ms/step - loss: 0.4187 - accuracy: 0.7959 - val_loss: 0.4211 - val_accuracy: 0.7939\n",
      "Epoch 28/50\n",
      "1120/1120 [==============================] - 1s 1ms/step - loss: 0.4187 - accuracy: 0.7960 - val_loss: 0.4234 - val_accuracy: 0.7941\n",
      "Epoch 29/50\n",
      "1120/1120 [==============================] - 1s 1ms/step - loss: 0.4189 - accuracy: 0.7967 - val_loss: 0.4212 - val_accuracy: 0.7939\n",
      "Epoch 30/50\n",
      "1120/1120 [==============================] - 1s 1ms/step - loss: 0.4186 - accuracy: 0.7966 - val_loss: 0.4210 - val_accuracy: 0.7948\n",
      "Epoch 31/50\n",
      "1120/1120 [==============================] - 1s 1ms/step - loss: 0.4187 - accuracy: 0.7960 - val_loss: 0.4216 - val_accuracy: 0.7945\n",
      "Epoch 32/50\n",
      "1120/1120 [==============================] - 1s 1ms/step - loss: 0.4188 - accuracy: 0.7959 - val_loss: 0.4214 - val_accuracy: 0.7944\n",
      "Epoch 33/50\n",
      "1120/1120 [==============================] - 1s 1ms/step - loss: 0.4188 - accuracy: 0.7960 - val_loss: 0.4210 - val_accuracy: 0.7944\n",
      "Epoch 34/50\n",
      "1120/1120 [==============================] - 1s 1ms/step - loss: 0.4186 - accuracy: 0.7961 - val_loss: 0.4220 - val_accuracy: 0.7939\n",
      "Epoch 35/50\n",
      "1120/1120 [==============================] - 1s 1ms/step - loss: 0.4184 - accuracy: 0.7963 - val_loss: 0.4205 - val_accuracy: 0.7940\n",
      "Epoch 36/50\n",
      "1120/1120 [==============================] - 1s 1ms/step - loss: 0.4185 - accuracy: 0.7965 - val_loss: 0.4215 - val_accuracy: 0.7930\n",
      "Epoch 37/50\n",
      "1120/1120 [==============================] - 1s 1ms/step - loss: 0.4184 - accuracy: 0.7958 - val_loss: 0.4211 - val_accuracy: 0.7945\n",
      "Epoch 38/50\n",
      "1120/1120 [==============================] - 1s 1ms/step - loss: 0.4184 - accuracy: 0.7963 - val_loss: 0.4215 - val_accuracy: 0.7947\n",
      "Epoch 39/50\n",
      "1120/1120 [==============================] - 1s 1ms/step - loss: 0.4186 - accuracy: 0.7965 - val_loss: 0.4212 - val_accuracy: 0.7949\n",
      "Epoch 40/50\n",
      "1120/1120 [==============================] - 1s 1ms/step - loss: 0.4183 - accuracy: 0.7960 - val_loss: 0.4213 - val_accuracy: 0.7942\n",
      "Epoch 41/50\n",
      "1120/1120 [==============================] - 1s 1ms/step - loss: 0.4185 - accuracy: 0.7964 - val_loss: 0.4208 - val_accuracy: 0.7942\n",
      "Epoch 42/50\n",
      "1120/1120 [==============================] - 1s 1ms/step - loss: 0.4183 - accuracy: 0.7966 - val_loss: 0.4211 - val_accuracy: 0.7946\n",
      "Epoch 43/50\n",
      "1120/1120 [==============================] - 1s 1ms/step - loss: 0.4184 - accuracy: 0.7963 - val_loss: 0.4228 - val_accuracy: 0.7944\n",
      "Epoch 44/50\n",
      "1120/1120 [==============================] - 1s 1ms/step - loss: 0.4185 - accuracy: 0.7962 - val_loss: 0.4207 - val_accuracy: 0.7945\n",
      "Epoch 45/50\n",
      "1120/1120 [==============================] - 1s 1ms/step - loss: 0.4185 - accuracy: 0.7963 - val_loss: 0.4211 - val_accuracy: 0.7944\n",
      "Epoch 46/50\n",
      "1120/1120 [==============================] - 1s 1ms/step - loss: 0.4183 - accuracy: 0.7958 - val_loss: 0.4218 - val_accuracy: 0.7933\n",
      "Epoch 47/50\n",
      "1120/1120 [==============================] - 1s 1ms/step - loss: 0.4183 - accuracy: 0.7962 - val_loss: 0.4202 - val_accuracy: 0.7947\n",
      "Epoch 48/50\n",
      "1120/1120 [==============================] - 1s 1ms/step - loss: 0.4182 - accuracy: 0.7964 - val_loss: 0.4213 - val_accuracy: 0.7947\n",
      "Epoch 49/50\n",
      "1120/1120 [==============================] - 1s 1ms/step - loss: 0.4183 - accuracy: 0.7963 - val_loss: 0.4208 - val_accuracy: 0.7948\n",
      "Epoch 50/50\n",
      "1120/1120 [==============================] - 1s 1ms/step - loss: 0.4182 - accuracy: 0.7964 - val_loss: 0.4206 - val_accuracy: 0.7934\n"
     ]
    }
   ],
   "source": [
    "# Compile the model\n",
    "nn.compile(optimizer='adam',\n",
    "           loss='binary_crossentropy',\n",
    "           metrics=['accuracy'])\n",
    "\n",
    "# Train the model\n",
    "history = nn.fit(\n",
    "    X_train_scaled,\n",
    "    y_train,\n",
    "    epochs=50,\n",
    "    batch_size=32,\n",
    "    validation_data=(X_test_scaled, y_test)\n",
    ")"
   ]
  },
  {
   "cell_type": "code",
   "execution_count": 29,
   "id": "d34c43ab",
   "metadata": {},
   "outputs": [
    {
     "name": "stdout",
     "output_type": "stream",
     "text": [
      "374/374 - 0s - loss: 0.4206 - accuracy: 0.7934 - 262ms/epoch - 701us/step\n",
      "Loss: 0.4206172525882721, Accuracy: 0.7934327125549316\n"
     ]
    }
   ],
   "source": [
    "model_loss, model_accuracy = nn.evaluate(X_test_scaled,y_test,verbose=2)\n",
    "print(f\"Loss: {model_loss}, Accuracy: {model_accuracy}\")"
   ]
  },
  {
   "cell_type": "markdown",
   "id": "ab980052",
   "metadata": {},
   "source": [
    "MANHATTAN DATA TEST"
   ]
  },
  {
   "cell_type": "code",
   "execution_count": 30,
   "id": "f15ab1f1",
   "metadata": {},
   "outputs": [],
   "source": [
    "# Split our preprocessed data into our features and target arrays\n",
    "y = manhattan_ml[\"RAT_ACTIVITY\"].values\n",
    "X = manhattan_ml.drop(columns=[\"RAT_ACTIVITY\"]).values\n",
    "\n",
    "# Split the preprocessed data into a training and testing dataset\n",
    "X_train, X_test, y_train, y_test = train_test_split(X, y, random_state=42)"
   ]
  },
  {
   "cell_type": "code",
   "execution_count": 31,
   "id": "d92d2ae0",
   "metadata": {},
   "outputs": [
    {
     "name": "stdout",
     "output_type": "stream",
     "text": [
      "(41154, 6)\n"
     ]
    }
   ],
   "source": [
    "# Create a StandardScaler instances\n",
    "scaler = StandardScaler()\n",
    "\n",
    "# Fit the StandardScaler\n",
    "X_scaler = scaler.fit(X_train)\n",
    "\n",
    "# Scale the data\n",
    "X_train_scaled = X_scaler.transform(X_train)\n",
    "X_test_scaled = X_scaler.transform(X_test)\n",
    "\n",
    "print(X_train_scaled.shape)"
   ]
  },
  {
   "cell_type": "code",
   "execution_count": 32,
   "id": "c3fc459b",
   "metadata": {},
   "outputs": [
    {
     "name": "stdout",
     "output_type": "stream",
     "text": [
      "Model: \"sequential_3\"\n",
      "_________________________________________________________________\n",
      " Layer (type)                Output Shape              Param #   \n",
      "=================================================================\n",
      " dense_9 (Dense)             (None, 16)                112       \n",
      "                                                                 \n",
      " dense_10 (Dense)            (None, 8)                 136       \n",
      "                                                                 \n",
      " dense_11 (Dense)            (None, 1)                 9         \n",
      "                                                                 \n",
      "=================================================================\n",
      "Total params: 257\n",
      "Trainable params: 257\n",
      "Non-trainable params: 0\n",
      "_________________________________________________________________\n"
     ]
    }
   ],
   "source": [
    "nn = tf.keras.models.Sequential()\n",
    "\n",
    "# First hidden layer\n",
    "nn.add(tf.keras.layers.Dense(units=16, activation=\"relu\", input_dim=X_train_scaled.shape[1]))\n",
    "\n",
    "# Second hidden layer\n",
    "nn.add(tf.keras.layers.Dense(units=8, activation=\"relu\"))\n",
    "\n",
    "# Output layer\n",
    "nn.add(tf.keras.layers.Dense(units=1, activation=\"sigmoid\"))\n",
    "\n",
    "# Check the structure of the model\n",
    "nn.summary()"
   ]
  },
  {
   "cell_type": "code",
   "execution_count": 33,
   "id": "b8e3dc66",
   "metadata": {},
   "outputs": [
    {
     "name": "stdout",
     "output_type": "stream",
     "text": [
      "Epoch 1/50\n",
      "1287/1287 [==============================] - 2s 1ms/step - loss: 0.4316 - accuracy: 0.7954 - val_loss: 0.3924 - val_accuracy: 0.8108\n",
      "Epoch 2/50\n",
      "1287/1287 [==============================] - 2s 1ms/step - loss: 0.3895 - accuracy: 0.8177 - val_loss: 0.3913 - val_accuracy: 0.8131\n",
      "Epoch 3/50\n",
      "1287/1287 [==============================] - 1s 1ms/step - loss: 0.3883 - accuracy: 0.8177 - val_loss: 0.3912 - val_accuracy: 0.8118\n",
      "Epoch 4/50\n",
      "1287/1287 [==============================] - 2s 1ms/step - loss: 0.3874 - accuracy: 0.8184 - val_loss: 0.3909 - val_accuracy: 0.8122\n",
      "Epoch 5/50\n",
      "1287/1287 [==============================] - 1s 1ms/step - loss: 0.3871 - accuracy: 0.8178 - val_loss: 0.3890 - val_accuracy: 0.8143\n",
      "Epoch 6/50\n",
      "1287/1287 [==============================] - 2s 1ms/step - loss: 0.3867 - accuracy: 0.8174 - val_loss: 0.3884 - val_accuracy: 0.8141\n",
      "Epoch 7/50\n",
      "1287/1287 [==============================] - 1s 1ms/step - loss: 0.3866 - accuracy: 0.8179 - val_loss: 0.3887 - val_accuracy: 0.8133\n",
      "Epoch 8/50\n",
      "1287/1287 [==============================] - 1s 1ms/step - loss: 0.3866 - accuracy: 0.8180 - val_loss: 0.3892 - val_accuracy: 0.8134\n",
      "Epoch 9/50\n",
      "1287/1287 [==============================] - 1s 1ms/step - loss: 0.3864 - accuracy: 0.8178 - val_loss: 0.3889 - val_accuracy: 0.8128\n",
      "Epoch 10/50\n",
      "1287/1287 [==============================] - 1s 1ms/step - loss: 0.3863 - accuracy: 0.8180 - val_loss: 0.3887 - val_accuracy: 0.8144\n",
      "Epoch 11/50\n",
      "1287/1287 [==============================] - 1s 1ms/step - loss: 0.3860 - accuracy: 0.8181 - val_loss: 0.3892 - val_accuracy: 0.8128\n",
      "Epoch 12/50\n",
      "1287/1287 [==============================] - 1s 1ms/step - loss: 0.3862 - accuracy: 0.8181 - val_loss: 0.3881 - val_accuracy: 0.8146\n",
      "Epoch 13/50\n",
      "1287/1287 [==============================] - 1s 1ms/step - loss: 0.3860 - accuracy: 0.8186 - val_loss: 0.3890 - val_accuracy: 0.8126\n",
      "Epoch 14/50\n",
      "1287/1287 [==============================] - 1s 1ms/step - loss: 0.3861 - accuracy: 0.8182 - val_loss: 0.3887 - val_accuracy: 0.8138\n",
      "Epoch 15/50\n",
      "1287/1287 [==============================] - 2s 1ms/step - loss: 0.3859 - accuracy: 0.8178 - val_loss: 0.3885 - val_accuracy: 0.8141\n",
      "Epoch 16/50\n",
      "1287/1287 [==============================] - 2s 1ms/step - loss: 0.3858 - accuracy: 0.8181 - val_loss: 0.3881 - val_accuracy: 0.8132\n",
      "Epoch 17/50\n",
      "1287/1287 [==============================] - 2s 1ms/step - loss: 0.3857 - accuracy: 0.8188 - val_loss: 0.3879 - val_accuracy: 0.8156\n",
      "Epoch 18/50\n",
      "1287/1287 [==============================] - 2s 1ms/step - loss: 0.3858 - accuracy: 0.8182 - val_loss: 0.3885 - val_accuracy: 0.8143\n",
      "Epoch 19/50\n",
      "1287/1287 [==============================] - 1s 1ms/step - loss: 0.3857 - accuracy: 0.8186 - val_loss: 0.3880 - val_accuracy: 0.8157\n",
      "Epoch 20/50\n",
      "1287/1287 [==============================] - 1s 1ms/step - loss: 0.3857 - accuracy: 0.8182 - val_loss: 0.3891 - val_accuracy: 0.8133\n",
      "Epoch 21/50\n",
      "1287/1287 [==============================] - 1s 1ms/step - loss: 0.3860 - accuracy: 0.8180 - val_loss: 0.3877 - val_accuracy: 0.8138\n",
      "Epoch 22/50\n",
      "1287/1287 [==============================] - 1s 1ms/step - loss: 0.3856 - accuracy: 0.8187 - val_loss: 0.3873 - val_accuracy: 0.8143\n",
      "Epoch 23/50\n",
      "1287/1287 [==============================] - 1s 1ms/step - loss: 0.3857 - accuracy: 0.8183 - val_loss: 0.3879 - val_accuracy: 0.8133\n",
      "Epoch 24/50\n",
      "1287/1287 [==============================] - 1s 1ms/step - loss: 0.3856 - accuracy: 0.8184 - val_loss: 0.3878 - val_accuracy: 0.8142\n",
      "Epoch 25/50\n",
      "1287/1287 [==============================] - 1s 1ms/step - loss: 0.3857 - accuracy: 0.8187 - val_loss: 0.3876 - val_accuracy: 0.8162\n",
      "Epoch 26/50\n",
      "1287/1287 [==============================] - 1s 1ms/step - loss: 0.3858 - accuracy: 0.8188 - val_loss: 0.3872 - val_accuracy: 0.8135\n",
      "Epoch 27/50\n",
      "1287/1287 [==============================] - 1s 1ms/step - loss: 0.3854 - accuracy: 0.8185 - val_loss: 0.3875 - val_accuracy: 0.8135\n",
      "Epoch 28/50\n",
      "1287/1287 [==============================] - 1s 1ms/step - loss: 0.3856 - accuracy: 0.8185 - val_loss: 0.3875 - val_accuracy: 0.8140\n",
      "Epoch 29/50\n",
      "1287/1287 [==============================] - 1s 1ms/step - loss: 0.3854 - accuracy: 0.8185 - val_loss: 0.3886 - val_accuracy: 0.8136\n",
      "Epoch 30/50\n",
      "1287/1287 [==============================] - 1s 1ms/step - loss: 0.3854 - accuracy: 0.8183 - val_loss: 0.3874 - val_accuracy: 0.8139\n",
      "Epoch 31/50\n",
      "1287/1287 [==============================] - 1s 1ms/step - loss: 0.3852 - accuracy: 0.8188 - val_loss: 0.3893 - val_accuracy: 0.8151\n",
      "Epoch 32/50\n",
      "1287/1287 [==============================] - 1s 1ms/step - loss: 0.3856 - accuracy: 0.8182 - val_loss: 0.3874 - val_accuracy: 0.8149\n",
      "Epoch 33/50\n",
      "1287/1287 [==============================] - 1s 1ms/step - loss: 0.3854 - accuracy: 0.8187 - val_loss: 0.3873 - val_accuracy: 0.8149\n",
      "Epoch 34/50\n",
      "1287/1287 [==============================] - 1s 1ms/step - loss: 0.3853 - accuracy: 0.8183 - val_loss: 0.3894 - val_accuracy: 0.8144\n",
      "Epoch 35/50\n",
      "1287/1287 [==============================] - 1s 1ms/step - loss: 0.3852 - accuracy: 0.8186 - val_loss: 0.3873 - val_accuracy: 0.8149\n",
      "Epoch 36/50\n",
      "1287/1287 [==============================] - 1s 1ms/step - loss: 0.3853 - accuracy: 0.8184 - val_loss: 0.3875 - val_accuracy: 0.8156\n",
      "Epoch 37/50\n",
      "1287/1287 [==============================] - 1s 1ms/step - loss: 0.3852 - accuracy: 0.8188 - val_loss: 0.3873 - val_accuracy: 0.8130\n",
      "Epoch 38/50\n",
      "1287/1287 [==============================] - 1s 1ms/step - loss: 0.3853 - accuracy: 0.8185 - val_loss: 0.3878 - val_accuracy: 0.8135\n",
      "Epoch 39/50\n",
      "1287/1287 [==============================] - 1s 1ms/step - loss: 0.3853 - accuracy: 0.8188 - val_loss: 0.3874 - val_accuracy: 0.8139\n",
      "Epoch 40/50\n",
      "1287/1287 [==============================] - 1s 1ms/step - loss: 0.3852 - accuracy: 0.8186 - val_loss: 0.3888 - val_accuracy: 0.8130\n",
      "Epoch 41/50\n",
      "1287/1287 [==============================] - 1s 1ms/step - loss: 0.3854 - accuracy: 0.8188 - val_loss: 0.3873 - val_accuracy: 0.8148\n",
      "Epoch 42/50\n",
      "1287/1287 [==============================] - 1s 1ms/step - loss: 0.3853 - accuracy: 0.8183 - val_loss: 0.3884 - val_accuracy: 0.8143\n",
      "Epoch 43/50\n",
      "1287/1287 [==============================] - 1s 1ms/step - loss: 0.3852 - accuracy: 0.8182 - val_loss: 0.3880 - val_accuracy: 0.8141\n",
      "Epoch 44/50\n",
      "1287/1287 [==============================] - 1s 1ms/step - loss: 0.3852 - accuracy: 0.8187 - val_loss: 0.3876 - val_accuracy: 0.8142\n",
      "Epoch 45/50\n",
      "1287/1287 [==============================] - 1s 1ms/step - loss: 0.3852 - accuracy: 0.8182 - val_loss: 0.3871 - val_accuracy: 0.8143\n",
      "Epoch 46/50\n",
      "1287/1287 [==============================] - 1s 1ms/step - loss: 0.3852 - accuracy: 0.8183 - val_loss: 0.3881 - val_accuracy: 0.8135\n",
      "Epoch 47/50\n",
      "1287/1287 [==============================] - 1s 1ms/step - loss: 0.3852 - accuracy: 0.8187 - val_loss: 0.3870 - val_accuracy: 0.8137\n",
      "Epoch 48/50\n",
      "1287/1287 [==============================] - 1s 1ms/step - loss: 0.3852 - accuracy: 0.8187 - val_loss: 0.3867 - val_accuracy: 0.8132\n",
      "Epoch 49/50\n",
      "1287/1287 [==============================] - 1s 1ms/step - loss: 0.3852 - accuracy: 0.8186 - val_loss: 0.3870 - val_accuracy: 0.8143\n",
      "Epoch 50/50\n",
      "1287/1287 [==============================] - 1s 1ms/step - loss: 0.3850 - accuracy: 0.8182 - val_loss: 0.3878 - val_accuracy: 0.8135\n"
     ]
    }
   ],
   "source": [
    "# Compile the model\n",
    "nn.compile(optimizer='adam',\n",
    "           loss='binary_crossentropy',\n",
    "           metrics=['accuracy'])\n",
    "\n",
    "# Train the model\n",
    "history = nn.fit(\n",
    "    X_train_scaled,\n",
    "    y_train,\n",
    "    epochs=50,\n",
    "    batch_size=32,\n",
    "    validation_data=(X_test_scaled, y_test)\n",
    ")"
   ]
  },
  {
   "cell_type": "code",
   "execution_count": 34,
   "id": "bc0c725e",
   "metadata": {},
   "outputs": [
    {
     "name": "stdout",
     "output_type": "stream",
     "text": [
      "429/429 - 0s - loss: 0.3878 - accuracy: 0.8135 - 347ms/epoch - 808us/step\n",
      "Loss: 0.3878409266471863, Accuracy: 0.8135432600975037\n"
     ]
    }
   ],
   "source": [
    "model_loss, model_accuracy = nn.evaluate(X_test_scaled,y_test,verbose=2)\n",
    "print(f\"Loss: {model_loss}, Accuracy: {model_accuracy}\")"
   ]
  },
  {
   "cell_type": "markdown",
   "id": "096a35e4",
   "metadata": {},
   "source": [
    "QUEENS DATASET (testing this data set because it is similar to Manhattan in its data split, curious to see the results)"
   ]
  },
  {
   "cell_type": "code",
   "execution_count": 43,
   "id": "37359185",
   "metadata": {},
   "outputs": [],
   "source": [
    "# Split our preprocessed data into our features and target arrays\n",
    "y = queens_ml[\"RAT_ACTIVITY\"].values\n",
    "X = queens_ml.drop(columns=[\"RAT_ACTIVITY\"]).values\n",
    "\n",
    "# Split the preprocessed data into a training and testing dataset\n",
    "X_train, X_test, y_train, y_test = train_test_split(X, y, random_state=42)"
   ]
  },
  {
   "cell_type": "code",
   "execution_count": 44,
   "id": "a66b2803",
   "metadata": {},
   "outputs": [
    {
     "name": "stdout",
     "output_type": "stream",
     "text": [
      "(8466, 5)\n"
     ]
    }
   ],
   "source": [
    "# Create a StandardScaler instances\n",
    "scaler = StandardScaler()\n",
    "\n",
    "# Fit the StandardScaler\n",
    "X_scaler = scaler.fit(X_train)\n",
    "\n",
    "# Scale the data\n",
    "X_train_scaled = X_scaler.transform(X_train)\n",
    "X_test_scaled = X_scaler.transform(X_test)\n",
    "\n",
    "print(X_train_scaled.shape)"
   ]
  },
  {
   "cell_type": "code",
   "execution_count": 45,
   "id": "c8d1002a",
   "metadata": {},
   "outputs": [
    {
     "name": "stdout",
     "output_type": "stream",
     "text": [
      "Model: \"sequential_4\"\n",
      "_________________________________________________________________\n",
      " Layer (type)                Output Shape              Param #   \n",
      "=================================================================\n",
      " dense_12 (Dense)            (None, 16)                96        \n",
      "                                                                 \n",
      " dense_13 (Dense)            (None, 8)                 136       \n",
      "                                                                 \n",
      " dense_14 (Dense)            (None, 1)                 9         \n",
      "                                                                 \n",
      "=================================================================\n",
      "Total params: 241\n",
      "Trainable params: 241\n",
      "Non-trainable params: 0\n",
      "_________________________________________________________________\n"
     ]
    }
   ],
   "source": [
    "nn = tf.keras.models.Sequential()\n",
    "\n",
    "# First hidden layer\n",
    "nn.add(tf.keras.layers.Dense(units=16, activation=\"relu\", input_dim=X_train_scaled.shape[1]))\n",
    "\n",
    "# Second hidden layer\n",
    "nn.add(tf.keras.layers.Dense(units=8, activation=\"relu\"))\n",
    "\n",
    "# Output layer\n",
    "nn.add(tf.keras.layers.Dense(units=1, activation=\"sigmoid\"))\n",
    "\n",
    "# Check the structure of the model\n",
    "nn.summary()"
   ]
  },
  {
   "cell_type": "code",
   "execution_count": 46,
   "id": "4405cd3d",
   "metadata": {},
   "outputs": [
    {
     "name": "stdout",
     "output_type": "stream",
     "text": [
      "Epoch 1/50\n",
      "265/265 [==============================] - 1s 2ms/step - loss: 0.5740 - accuracy: 0.7004 - val_loss: 0.4704 - val_accuracy: 0.7707\n",
      "Epoch 2/50\n",
      "265/265 [==============================] - 0s 1ms/step - loss: 0.4520 - accuracy: 0.7609 - val_loss: 0.4251 - val_accuracy: 0.7792\n",
      "Epoch 3/50\n",
      "265/265 [==============================] - 0s 1ms/step - loss: 0.4314 - accuracy: 0.7639 - val_loss: 0.4192 - val_accuracy: 0.7668\n",
      "Epoch 4/50\n",
      "265/265 [==============================] - 0s 1ms/step - loss: 0.4262 - accuracy: 0.7600 - val_loss: 0.4137 - val_accuracy: 0.7679\n",
      "Epoch 5/50\n",
      "265/265 [==============================] - 0s 1ms/step - loss: 0.4243 - accuracy: 0.7580 - val_loss: 0.4129 - val_accuracy: 0.7651\n",
      "Epoch 6/50\n",
      "265/265 [==============================] - 0s 1ms/step - loss: 0.4227 - accuracy: 0.7602 - val_loss: 0.4088 - val_accuracy: 0.7739\n",
      "Epoch 7/50\n",
      "265/265 [==============================] - 0s 1ms/step - loss: 0.4220 - accuracy: 0.7629 - val_loss: 0.4091 - val_accuracy: 0.7807\n",
      "Epoch 8/50\n",
      "265/265 [==============================] - 0s 1ms/step - loss: 0.4215 - accuracy: 0.7612 - val_loss: 0.4074 - val_accuracy: 0.7785\n",
      "Epoch 9/50\n",
      "265/265 [==============================] - 0s 1ms/step - loss: 0.4212 - accuracy: 0.7632 - val_loss: 0.4074 - val_accuracy: 0.7771\n",
      "Epoch 10/50\n",
      "265/265 [==============================] - 0s 1ms/step - loss: 0.4208 - accuracy: 0.7583 - val_loss: 0.4085 - val_accuracy: 0.7690\n",
      "Epoch 11/50\n",
      "265/265 [==============================] - 0s 1ms/step - loss: 0.4205 - accuracy: 0.7588 - val_loss: 0.4107 - val_accuracy: 0.7686\n",
      "Epoch 12/50\n",
      "265/265 [==============================] - 0s 1ms/step - loss: 0.4197 - accuracy: 0.7605 - val_loss: 0.4116 - val_accuracy: 0.7679\n",
      "Epoch 13/50\n",
      "265/265 [==============================] - 0s 1ms/step - loss: 0.4201 - accuracy: 0.7605 - val_loss: 0.4077 - val_accuracy: 0.7682\n",
      "Epoch 14/50\n",
      "265/265 [==============================] - 0s 1ms/step - loss: 0.4192 - accuracy: 0.7631 - val_loss: 0.4065 - val_accuracy: 0.7760\n",
      "Epoch 15/50\n",
      "265/265 [==============================] - 0s 1ms/step - loss: 0.4202 - accuracy: 0.7608 - val_loss: 0.4072 - val_accuracy: 0.7838\n",
      "Epoch 16/50\n",
      "265/265 [==============================] - 0s 1ms/step - loss: 0.4192 - accuracy: 0.7583 - val_loss: 0.4075 - val_accuracy: 0.7704\n",
      "Epoch 17/50\n",
      "265/265 [==============================] - 0s 1ms/step - loss: 0.4194 - accuracy: 0.7610 - val_loss: 0.4079 - val_accuracy: 0.7686\n",
      "Epoch 18/50\n",
      "265/265 [==============================] - 0s 1ms/step - loss: 0.4194 - accuracy: 0.7608 - val_loss: 0.4081 - val_accuracy: 0.7686\n",
      "Epoch 19/50\n",
      "265/265 [==============================] - 0s 1ms/step - loss: 0.4188 - accuracy: 0.7634 - val_loss: 0.4110 - val_accuracy: 0.7668\n",
      "Epoch 20/50\n",
      "265/265 [==============================] - 0s 1ms/step - loss: 0.4190 - accuracy: 0.7594 - val_loss: 0.4069 - val_accuracy: 0.7810\n",
      "Epoch 21/50\n",
      "265/265 [==============================] - 0s 1ms/step - loss: 0.4189 - accuracy: 0.7615 - val_loss: 0.4073 - val_accuracy: 0.7732\n",
      "Epoch 22/50\n",
      "265/265 [==============================] - 0s 1ms/step - loss: 0.4183 - accuracy: 0.7644 - val_loss: 0.4052 - val_accuracy: 0.7838\n",
      "Epoch 23/50\n",
      "265/265 [==============================] - 0s 1ms/step - loss: 0.4187 - accuracy: 0.7621 - val_loss: 0.4054 - val_accuracy: 0.7789\n",
      "Epoch 24/50\n",
      "265/265 [==============================] - 0s 1ms/step - loss: 0.4185 - accuracy: 0.7593 - val_loss: 0.4090 - val_accuracy: 0.7729\n",
      "Epoch 25/50\n",
      "265/265 [==============================] - 0s 1ms/step - loss: 0.4191 - accuracy: 0.7566 - val_loss: 0.4096 - val_accuracy: 0.7679\n",
      "Epoch 26/50\n",
      "265/265 [==============================] - 0s 1ms/step - loss: 0.4186 - accuracy: 0.7600 - val_loss: 0.4082 - val_accuracy: 0.7658\n",
      "Epoch 27/50\n",
      "265/265 [==============================] - 0s 1ms/step - loss: 0.4183 - accuracy: 0.7606 - val_loss: 0.4064 - val_accuracy: 0.7700\n",
      "Epoch 28/50\n",
      "265/265 [==============================] - 0s 1ms/step - loss: 0.4177 - accuracy: 0.7614 - val_loss: 0.4057 - val_accuracy: 0.7743\n",
      "Epoch 29/50\n",
      "265/265 [==============================] - 0s 1ms/step - loss: 0.4179 - accuracy: 0.7610 - val_loss: 0.4071 - val_accuracy: 0.7736\n",
      "Epoch 30/50\n",
      "265/265 [==============================] - 0s 1ms/step - loss: 0.4178 - accuracy: 0.7615 - val_loss: 0.4060 - val_accuracy: 0.7746\n",
      "Epoch 31/50\n",
      "265/265 [==============================] - 0s 1ms/step - loss: 0.4171 - accuracy: 0.7651 - val_loss: 0.4059 - val_accuracy: 0.7778\n",
      "Epoch 32/50\n",
      "265/265 [==============================] - 0s 1ms/step - loss: 0.4174 - accuracy: 0.7605 - val_loss: 0.4056 - val_accuracy: 0.7775\n",
      "Epoch 33/50\n",
      "265/265 [==============================] - 0s 1ms/step - loss: 0.4174 - accuracy: 0.7610 - val_loss: 0.4052 - val_accuracy: 0.7799\n",
      "Epoch 34/50\n",
      "265/265 [==============================] - 0s 1ms/step - loss: 0.4175 - accuracy: 0.7588 - val_loss: 0.4049 - val_accuracy: 0.7785\n",
      "Epoch 35/50\n",
      "265/265 [==============================] - 0s 1ms/step - loss: 0.4175 - accuracy: 0.7615 - val_loss: 0.4055 - val_accuracy: 0.7831\n",
      "Epoch 36/50\n",
      "265/265 [==============================] - 0s 1ms/step - loss: 0.4171 - accuracy: 0.7619 - val_loss: 0.4045 - val_accuracy: 0.7821\n",
      "Epoch 37/50\n",
      "265/265 [==============================] - 0s 1ms/step - loss: 0.4172 - accuracy: 0.7596 - val_loss: 0.4076 - val_accuracy: 0.7658\n",
      "Epoch 38/50\n",
      "265/265 [==============================] - 0s 1ms/step - loss: 0.4168 - accuracy: 0.7588 - val_loss: 0.4085 - val_accuracy: 0.7682\n",
      "Epoch 39/50\n",
      "265/265 [==============================] - 0s 1ms/step - loss: 0.4167 - accuracy: 0.7625 - val_loss: 0.4065 - val_accuracy: 0.7732\n",
      "Epoch 40/50\n",
      "265/265 [==============================] - 0s 1ms/step - loss: 0.4167 - accuracy: 0.7602 - val_loss: 0.4047 - val_accuracy: 0.7828\n",
      "Epoch 41/50\n",
      "265/265 [==============================] - 0s 1ms/step - loss: 0.4166 - accuracy: 0.7602 - val_loss: 0.4051 - val_accuracy: 0.7743\n",
      "Epoch 42/50\n",
      "265/265 [==============================] - 0s 1ms/step - loss: 0.4167 - accuracy: 0.7603 - val_loss: 0.4077 - val_accuracy: 0.7697\n",
      "Epoch 43/50\n",
      "265/265 [==============================] - 0s 1ms/step - loss: 0.4166 - accuracy: 0.7603 - val_loss: 0.4108 - val_accuracy: 0.7675\n",
      "Epoch 44/50\n",
      "265/265 [==============================] - 0s 1ms/step - loss: 0.4169 - accuracy: 0.7605 - val_loss: 0.4055 - val_accuracy: 0.7771\n",
      "Epoch 45/50\n",
      "265/265 [==============================] - 0s 1ms/step - loss: 0.4165 - accuracy: 0.7626 - val_loss: 0.4045 - val_accuracy: 0.7796\n",
      "Epoch 46/50\n",
      "265/265 [==============================] - 0s 1ms/step - loss: 0.4164 - accuracy: 0.7597 - val_loss: 0.4064 - val_accuracy: 0.7750\n",
      "Epoch 47/50\n",
      "265/265 [==============================] - 0s 1ms/step - loss: 0.4169 - accuracy: 0.7616 - val_loss: 0.4096 - val_accuracy: 0.7636\n",
      "Epoch 48/50\n",
      "265/265 [==============================] - 0s 1ms/step - loss: 0.4161 - accuracy: 0.7601 - val_loss: 0.4092 - val_accuracy: 0.7619\n",
      "Epoch 49/50\n",
      "265/265 [==============================] - 0s 1ms/step - loss: 0.4166 - accuracy: 0.7605 - val_loss: 0.4059 - val_accuracy: 0.7739\n",
      "Epoch 50/50\n",
      "265/265 [==============================] - 0s 1ms/step - loss: 0.4165 - accuracy: 0.7625 - val_loss: 0.4042 - val_accuracy: 0.7810\n"
     ]
    }
   ],
   "source": [
    "# Compile the model\n",
    "nn.compile(optimizer='adam',\n",
    "           loss='binary_crossentropy',\n",
    "           metrics=['accuracy'])\n",
    "\n",
    "# Train the model\n",
    "history = nn.fit(\n",
    "    X_train_scaled,\n",
    "    y_train,\n",
    "    epochs=50,\n",
    "    batch_size=32,\n",
    "    validation_data=(X_test_scaled, y_test)\n",
    ")"
   ]
  },
  {
   "cell_type": "code",
   "execution_count": 47,
   "id": "329b33ba",
   "metadata": {},
   "outputs": [
    {
     "name": "stdout",
     "output_type": "stream",
     "text": [
      "89/89 - 0s - loss: 0.4042 - accuracy: 0.7810 - 76ms/epoch - 858us/step\n",
      "Loss: 0.4041619598865509, Accuracy: 0.781006395816803\n"
     ]
    }
   ],
   "source": [
    "model_loss, model_accuracy = nn.evaluate(X_test_scaled,y_test,verbose=2)\n",
    "print(f\"Loss: {model_loss}, Accuracy: {model_accuracy}\")"
   ]
  },
  {
   "cell_type": "markdown",
   "id": "df290d20",
   "metadata": {},
   "source": [
    "Testing Notes:\n",
    "\n",
    "Base test: 16/8/1/50 epochs\n",
    "Full Dataset: 1292/1292 - 1s - loss: 0.4138 - accuracy: 0.8003 - 858ms/epoch - 664us/step\n",
    "Loss: 0.4137950539588928, Accuracy: 0.8003047704696655\n",
    "\n",
    "Brooklyn: 385/385 - 0s - loss: 0.4390 - accuracy: 0.7908 - 273ms/epoch - 708us/step\n",
    "Loss: 0.4390130043029785, Accuracy: 0.7908262610435486\n",
    "\n",
    "Bronx: 374/374 - 0s - loss: 0.4202 - accuracy: 0.7940 - 264ms/epoch - 707us/step\n",
    "Loss: 0.4202301502227783, Accuracy: 0.7940191030502319\n",
    "\n",
    "Manhattan: 429/429 - 0s - loss: 0.3873 - accuracy: 0.8155 - 338ms/epoch - 788us/step\n",
    "Loss: 0.38726359605789185, Accuracy: 0.8155113458633423\n",
    "\n",
    "Queens: 89/89 - 0s - loss: 0.4042 - accuracy: 0.7810 - 76ms/epoch - 858us/step\n",
    "Loss: 0.4041619598865509, Accuracy: 0.781006395816803\n",
    "\n",
    "First Test: 32/16/1/100 epochs\n"
   ]
  },
  {
   "cell_type": "code",
   "execution_count": null,
   "id": "720e5f8c",
   "metadata": {},
   "outputs": [],
   "source": []
  },
  {
   "cell_type": "code",
   "execution_count": null,
   "id": "c8f8c2a3",
   "metadata": {},
   "outputs": [],
   "source": []
  },
  {
   "cell_type": "code",
   "execution_count": null,
   "id": "e3f48220",
   "metadata": {},
   "outputs": [],
   "source": []
  },
  {
   "cell_type": "markdown",
   "id": "22576489",
   "metadata": {},
   "source": [
    "Per the NYC open data:\n",
    "\n",
    "\"Initial Inspection - Inspection conducted in response to a 311 complaint, or a proactive inspection conducted through our neighborhood indexing program\" and \"Compliance Inspection - If a property fails its initial inspection, the Health Department will conduct a follow up (Compliance) inspection\""
   ]
  },
  {
   "cell_type": "code",
   "execution_count": 35,
   "id": "9cbb2588",
   "metadata": {},
   "outputs": [
    {
     "data": {
      "image/png": "[encoded data removed]",
      "text/plain": [
       "<Figure size 720x432 with 1 Axes>"
      ]
     },
     "metadata": {
      "needs_background": "light"
     },
     "output_type": "display_data"
    }
   ],
   "source": [
    "# Create a dictionary to store the total initial inspections for each borough\n",
    "borough_totals = {\n",
    "    'Staten Island': len(staten_island[staten_island['INSPECTION_TYPE'] == 'Initial']),\n",
    "    'Bronx': len(bronx[bronx['INSPECTION_TYPE'] == 'Initial']),\n",
    "    'Brooklyn': len(brooklyn[brooklyn['INSPECTION_TYPE'] == 'Initial']),\n",
    "    'Manhattan': len(manhattan[manhattan['INSPECTION_TYPE'] == 'Initial']),\n",
    "    'Queens': len(queens[queens['INSPECTION_TYPE'] == 'Initial'])\n",
    "}\n",
    "\n",
    "# Convert the dictionary to a Pandas Series for easy plotting\n",
    "borough_series = pd.Series(borough_totals)\n",
    "\n",
    "# Create a bar chart\n",
    "borough_series.plot(kind='bar', stacked=True, figsize=(10, 6))\n",
    "\n",
    "# Customize the plot\n",
    "plt.title('Total Initial Inspections by Borough')\n",
    "plt.xlabel('Borough')\n",
    "plt.ylabel('Total Initial Inspections')\n",
    "\n",
    "# Show the plot\n",
    "plt.savefig(\"./Graphics/total-initial-inspections-by-borough.png\")\n",
    "plt.show()"
   ]
  },
  {
   "cell_type": "code",
   "execution_count": 36,
   "id": "1ac30ad4",
   "metadata": {},
   "outputs": [
    {
     "data": {
      "image/png": "[encoded data removed]",
      "text/plain": [
       "<Figure size 720x432 with 1 Axes>"
      ]
     },
     "metadata": {
      "needs_background": "light"
     },
     "output_type": "display_data"
    }
   ],
   "source": [
    "# Create a dictionary to store the total compliance inspections for each borough\n",
    "borough_compliance = {\n",
    "    'Staten Island': len(staten_island[staten_island['INSPECTION_TYPE'] == 'Compliance']),\n",
    "    'Bronx': len(bronx[bronx['INSPECTION_TYPE'] == 'Compliance']),\n",
    "    'Brooklyn': len(brooklyn[brooklyn['INSPECTION_TYPE'] == 'Compliance']),\n",
    "    'Manhattan': len(manhattan[manhattan['INSPECTION_TYPE'] == 'Compliance']),\n",
    "    'Queens': len(queens[queens['INSPECTION_TYPE'] == 'Compliance'])\n",
    "}\n",
    "\n",
    "# Convert the dictionary to a Pandas Series for easy plotting\n",
    "borough_comp_series = pd.Series(borough_compliance)\n",
    "\n",
    "# Create a bar chart\n",
    "borough_comp_series.plot(kind='bar', stacked=True, figsize=(10, 6))\n",
    "\n",
    "# Customize the plot\n",
    "plt.title('Total Compliance Inspections by Borough')\n",
    "plt.xlabel('Borough')\n",
    "plt.ylabel('Total Compliance Inspections')\n",
    "\n",
    "# Show the plot\n",
    "plt.savefig(\"./Graphics/total-compliance-inspections-by-borough.png\")\n",
    "plt.show()"
   ]
  },
  {
   "cell_type": "code",
   "execution_count": 37,
   "id": "6ce6be5e",
   "metadata": {},
   "outputs": [
    {
     "data": {
      "image/png": "[encoded data removed]",
      "text/plain": [
       "<Figure size 720x432 with 1 Axes>"
      ]
     },
     "metadata": {
      "needs_background": "light"
     },
     "output_type": "display_data"
    }
   ],
   "source": [
    "# Create a DataFrame to store the total initial and compliance inspections for each borough\n",
    "borough_data = pd.DataFrame({\n",
    "    'Borough': ['Staten Island', 'Bronx', 'Brooklyn', 'Manhattan', 'Queens'],\n",
    "    'Initial': [\n",
    "        len(staten_island[staten_island['INSPECTION_TYPE'] == 'Initial']),\n",
    "        len(bronx[bronx['INSPECTION_TYPE'] == 'Initial']),\n",
    "        len(brooklyn[brooklyn['INSPECTION_TYPE'] == 'Initial']),\n",
    "        len(manhattan[manhattan['INSPECTION_TYPE'] == 'Initial']),\n",
    "        len(queens[queens['INSPECTION_TYPE'] == 'Initial'])\n",
    "    ],\n",
    "    'Compliance': [\n",
    "        len(staten_island[staten_island['INSPECTION_TYPE'] == 'Compliance']),\n",
    "        len(bronx[bronx['INSPECTION_TYPE'] == 'Compliance']),\n",
    "        len(brooklyn[brooklyn['INSPECTION_TYPE'] == 'Compliance']),\n",
    "        len(manhattan[manhattan['INSPECTION_TYPE'] == 'Compliance']),\n",
    "        len(queens[queens['INSPECTION_TYPE'] == 'Compliance'])\n",
    "    ]\n",
    "})\n",
    "\n",
    "# Create a stacked bar chart\n",
    "borough_data.set_index('Borough').plot(kind='bar', stacked=True, figsize=(10, 6))\n",
    "\n",
    "# Customize the plot\n",
    "plt.title('Total Initial and Compliance Inspections by Borough')\n",
    "plt.xlabel('Borough')\n",
    "plt.ylabel('Total Inspections')\n",
    "\n",
    "# Save the plot\n",
    "plt.savefig(\"./Graphics/total-inspections-by-Borough.png\")\n",
    "\n",
    "# Show the plot\n",
    "plt.show()"
   ]
  },
  {
   "cell_type": "code",
   "execution_count": 38,
   "id": "f05d3622",
   "metadata": {},
   "outputs": [
    {
     "name": "stdout",
     "output_type": "stream",
     "text": [
      "Unique Result Values:\n",
      "Passed\n",
      "Rat Activity\n",
      "Bait applied\n",
      "Failed for Other R\n",
      "Monitoring visit\n",
      "Stoppage done\n",
      "Cleanup done\n"
     ]
    }
   ],
   "source": [
    "# Display all unique values in the 'result' column for Brooklyn\n",
    "unique_results = df['RESULT'].unique()\n",
    "\n",
    "print(\"Unique Result Values:\")\n",
    "for result in unique_results:\n",
    "    print(result)"
   ]
  },
  {
   "cell_type": "code",
   "execution_count": 39,
   "id": "a2237abf",
   "metadata": {},
   "outputs": [
    {
     "name": "stdout",
     "output_type": "stream",
     "text": [
      "Unique inspection type Values:\n",
      "Initial\n",
      "Compliance\n",
      "BAIT\n",
      "STOPPAGE\n",
      "CLEAN_UPS\n"
     ]
    }
   ],
   "source": [
    "# Display all unique values in the 'result' column for Brooklyn\n",
    "unique_inspections = df['INSPECTION_TYPE'].unique()\n",
    "\n",
    "print(\"Unique inspection type Values:\")\n",
    "for result in unique_inspections:\n",
    "    print(result)"
   ]
  },
  {
   "cell_type": "code",
   "execution_count": null,
   "id": "4f1ea2df",
   "metadata": {},
   "outputs": [],
   "source": []
  },
  {
   "cell_type": "markdown",
   "id": "88f9f1ab",
   "metadata": {},
   "source": [
    "Compliance visits are only triggered after the initial visit (if rat evidence is indicated). Similarly, for results: I think everything except Passed, failed for other R, and possibly clean up are indicative of rat activity. According to NYC Open data, here are the inspection categories:\n",
    "Baiting - Application of rodenticide, or monitoring visit by a\n",
    "Health Department Pest Control Professional.\n",
    "Clean Up - The removal of garbage and clutter from a\n",
    "property by the Health Department.\n",
    "Stoppage – Sealing of holes and cracks allowing free\n",
    "movement of pests.\n",
    "Initial Inspection - Inspection conducted in response to a 311\n",
    "complaint, or a proactive inspection conducted through our\n",
    "neighborhood indexing program.\n",
    "Compliance Inspection - If a property fails its initial\n",
    "inspection, the Health Department will conduct a follow up\n",
    "(Compliance) inspection.\n",
    "Baiting - Application of rodenticide, or monitoring visit by a\n",
    "Health Department Pest Control Professional.\n",
    "Clean Up - The removal of garbage and clutter from a\n",
    "property by the Health Department.\n",
    "\n",
    "Filter Relevant Data: If we're interested in tracking the progression of rat activity and control measures, we should filter our data to only include records where an initial inspection resulted in a finding of rat activity."
   ]
  },
  {
   "cell_type": "code",
   "execution_count": null,
   "id": "fbd24568",
   "metadata": {},
   "outputs": [],
   "source": [
    "brooklyn_df"
   ]
  },
  {
   "cell_type": "code",
   "execution_count": null,
   "id": "bceee7c8",
   "metadata": {},
   "outputs": [],
   "source": [
    "job_id_counts = brooklyn_df['JOB_ID'].value_counts()\n",
    "\n",
    "# Filter to only show job_ids that appear more than once\n",
    "repeated_job_ids = job_id_counts[job_id_counts > 40]\n",
    "\n",
    "print(\"Job_IDs that repeat and their frequencies:\")\n",
    "print(repeated_job_ids)\n"
   ]
  },
  {
   "cell_type": "code",
   "execution_count": null,
   "id": "4a55ac67",
   "metadata": {},
   "outputs": [],
   "source": [
    "# List of job IDs to filter\n",
    "job_ids = ['PC7775029', 'PC7860266', 'PC7870102', 'PC7845837', 'PC7870111', 'PC7868958', 'PC7881156', 'PC7931761', 'PC7930725', 'PC7931755' ]\n",
    "\n",
    "# Create an empty dictionary to store the filtered dataframes\n",
    "filtered_dfs = {}\n",
    "\n",
    "# Loop through the job IDs and create filtered dataframes for each\n",
    "for job_id in job_ids:\n",
    "    job_id_filter = brooklyn_df['JOB_ID'] == job_id\n",
    "    filtered_df = brooklyn_df[job_id_filter]\n",
    "    \n",
    "    # Sort the filtered dataframe by the INSPECTION_DATE column\n",
    "    sorted_filtered_df = filtered_df.sort_values(by='INSPECTION_DATE', ascending=True)\n",
    "    \n",
    "    filtered_dfs[job_id] = sorted_filtered_df\n",
    "\n",
    "# Access the dataframe for a specific job ID\n",
    "print(\"Dataframe for job ID PC7775029:\")\n",
    "filtered_dfs['PC7775029']"
   ]
  },
  {
   "cell_type": "code",
   "execution_count": null,
   "id": "3e6d0513",
   "metadata": {},
   "outputs": [],
   "source": [
    "# Create an empty dictionary to store the count of \"passed\" results for each job ID\n",
    "passed_counts = {}\n",
    "\n",
    "# Loop through the filtered dataframes and count the number of \"passed\" results for each job ID\n",
    "for job_id, df in filtered_dfs.items():\n",
    "    passed_filter = df['RESULT'] == 'Passed'\n",
    "    passed_counts[job_id] = df[passed_filter].shape[0]\n",
    "\n",
    "# Print the count of \"passed\" results for each job ID\n",
    "print(\"Count of 'Passed' results for each job ID:\")\n",
    "print(passed_counts)"
   ]
  },
  {
   "cell_type": "markdown",
   "id": "bf4e4ee3",
   "metadata": {},
   "source": [
    "Use high frequency job_ids to possibly look at the following:\n",
    "\n",
    "Timeline of Inspections: Analyze the time gap between inspections (Initial and Compliance) within a specific job ID. This could help you understand how frequently inspections are conducted, and how long it typically takes for a property to move from the initial inspection to the compliance inspection.\n",
    "\n",
    "Inspection Outcomes: Check the sequence of inspection outcomes for each job ID. Did the property initially fail the inspection, then pass subsequent inspections? Or did it continue to fail even after multiple inspections? This can provide insights into treatment effectiveness.\n",
    "\n",
    "Treatment Types: Analyze the types of treatments (Baiting, Cleanup, Stoppage) applied within each job ID. Did the property receive multiple treatments of the same type, or a combination of different treatments?\n",
    "\n",
    "Changes in Rat Activity: Track changes in rat activity (if available) within each job ID, such as the reduction or increase in sightings, based on inspection results and associated timestamps.\n",
    "\n",
    "Location Data: Look at the geographic location of the properties associated with each job ID. Are there clusters of properties with high-frequency job IDs in specific areas? This could indicate localized infestations.\n",
    "\n",
    "\n",
    "\n",
    "\n",
    "Look at zip code data vs inspections: rate of growth in zip vs rate of treatment/rate of inspection\n",
    "look at full data set (2023), specifically what zip codes have a high rate of \"rat activity\", predict \"Treatment zones\" based on \"rat activity\" and inspection results\n"
   ]
  },
  {
   "cell_type": "code",
   "execution_count": 42,
   "id": "0b5c442a",
   "metadata": {},
   "outputs": [
    {
     "data": {
      "image/png": "[encoded data removed]",
      "text/plain": [
       "<Figure size 720x432 with 1 Axes>"
      ]
     },
     "metadata": {
      "needs_background": "light"
     },
     "output_type": "display_data"
    }
   ],
   "source": [
    "# Grouping by borough and RAT_ACTIVITY, then unstacking for plotting\n",
    "borough_rat_activity = df.groupby(['BOROUGH', 'RAT_ACTIVITY']).size().unstack()\n",
    "\n",
    "# Sorting the data if needed\n",
    "borough_order = ['Staten Island', 'Bronx', 'Brooklyn', 'Manhattan', 'Queens']\n",
    "borough_rat_activity = borough_rat_activity.reindex(borough_order).fillna(0)\n",
    "\n",
    "# Plotting the data\n",
    "borough_rat_activity.plot(kind='bar', figsize=(10, 6))\n",
    "\n",
    "# Customize the plot\n",
    "plt.title('Rat Activity by Borough')\n",
    "plt.xlabel('Borough')\n",
    "plt.ylabel('Number of Inspections')\n",
    "plt.xticks(rotation=45)\n",
    "plt.legend([\"No Rat Activity\", \"Rat Activity\"], loc='upper right')  # Adjusting the legend\n",
    "\n",
    "# Save the plot\n",
    "plt.savefig(\"./Graphics/rat-activity-by-borough.png\")\n",
    "\n",
    "# Show the plot\n",
    "plt.show()"
   ]
  },
  {
   "cell_type": "code",
   "execution_count": null,
   "id": "61a2ca6c",
   "metadata": {},
   "outputs": [],
   "source": []
  }
 ],
 "metadata": {
  "kernelspec": {
   "display_name": "PythonData",
   "language": "python",
   "name": "pythondata"
  },
  "language_info": {
   "codemirror_mode": {
    "name": "ipython",
    "version": 3
   },
   "file_extension": ".py",
   "mimetype": "text/x-python",
   "name": "python",
   "nbconvert_exporter": "python",
   "pygments_lexer": "ipython3",
   "version": "3.7.7"
  }
 },
 "nbformat": 4,
 "nbformat_minor": 5
}
