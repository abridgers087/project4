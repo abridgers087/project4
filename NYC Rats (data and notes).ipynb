{
 "cells": [
  {
   "cell_type": "markdown",
   "id": "628287d3",
   "metadata": {},
   "source": [
    "NYC Rat Data Source\n",
    "\n",
    "Notes for the NYC Rat Data:\n",
    "https://data.cityofnewyork.us/Health/Rodent-Inspection/p937-wjvj\n",
    "\n",
    "Notes for Rat Sightings Data:\n",
    "https://data.cityofnewyork.us/Social-Services/Rat-Sightings/3q43-55fe\n",
    "\n",
    "CSV Data\n",
    "Rat Data (as of 8/17): https://dev.socrata.com/foundry/data.cityofnewyork.us/p937-wjvj\n",
    "Rat Sightings (as of 8/20): https://data.cityofnewyork.us/api/views/3q43-55fe/rows.csv?accessType=DOWNLOAD\n",
    "\n",
    "Notes\n",
    "Rat Data: Please note that if a property/taxlot does not appear in the file, that does not indicate an absence of rats - rather just that it has not been inspected. Similarly, neighborhoods with higher numbers properties with active rat signs may not actually have higher rat populations but simply have more inspections.\n",
    "\n",
    "Rat Sightings: This is a community created database and NYC Open Data has not reviewed or endorsed any changes, including filters or updates to the title and description\n",
    "\n",
    "Rat Notes:\n",
    "\n",
    "Rat lifespan: rats live about 1 year and begin reproducing at 2-3 months old. New York City rats like to burrow, nest, and hide in soft dirt at ground level or below, and live in colonies, or families of 30 to 50 rats with 9 to a burrow. These rats will live between 100 and 400 feet from their food source, and in their lifetime will rarely travel more than 600 feet from where they are born (source:https://rattrapinc.com/new-york-city-rat-facts/).\n",
    "\n",
    "With this information, we should focus on a time span of not more than 5 years, but not less than 1-2 years. I also think we should focus on one Borough. Research shows Brooklyn to be the most rat-infested Borough (https://www.stat.cmu.edu/capstoneresearch/fall2022/315files_f22/team6.html) (plus our dataset shows the same). \n",
    "\n",
    "Using the data at hand, I beleive we should look at inspection results, by street name, over a period of 2-5 years to see if there is a trend in rat growth, if treatment is working, etc. Compare with the sightings data for more information.\n",
    "\n",
    "Cleaning steps:\n",
    "(NYC Rat Data)\n",
    "1. Remove empty data\n",
    "2. Drill down by Borough (maybe use df's grouped by borough for visualization)\n",
    "3. Remove data out of date threshold (easier to clean if sorted by borough)\n",
    "4. Manipulate\n",
    "\n",
    "Cleaning Steps:\n",
    "(NYC Sightings Data)\n",
    "1. Remove empty data\n",
    "2. Drill down by Borough (get rid of everything not in Brooklyn)\n",
    "3. Remove data not in our date range\n",
    "4. Manipulate\n"
   ]
  },
  {
   "cell_type": "code",
   "execution_count": 1,
   "id": "2b305f0e",
   "metadata": {},
   "outputs": [],
   "source": [
    "import requests\n",
    "import json\n",
    "import os\n",
    "from pprint import pprint\n",
    "from pymongo import MongoClient\n",
    "from datetime import datetime\n",
    "import pandas as pd\n",
    "import matplotlib.pyplot as plt\n",
    "import matplotlib"
   ]
  },
  {
   "cell_type": "code",
   "execution_count": 2,
   "id": "65180c56",
   "metadata": {},
   "outputs": [],
   "source": [
    "client = MongoClient('localhost', 27017)\n",
    "\n",
    "# Select your database\n",
    "db = client['nyc']\n",
    "\n",
    "# Select your collection\n",
    "collection = db['rats']"
   ]
  },
  {
   "cell_type": "code",
   "execution_count": null,
   "id": "510fd383",
   "metadata": {},
   "outputs": [],
   "source": []
  }
 ],
 "metadata": {
  "kernelspec": {
   "display_name": "PythonData",
   "language": "python",
   "name": "pythondata"
  },
  "language_info": {
   "codemirror_mode": {
    "name": "ipython",
    "version": 3
   },
   "file_extension": ".py",
   "mimetype": "text/x-python",
   "name": "python",
   "nbconvert_exporter": "python",
   "pygments_lexer": "ipython3",
   "version": "3.7.7"
  }
 },
 "nbformat": 4,
 "nbformat_minor": 5
}
